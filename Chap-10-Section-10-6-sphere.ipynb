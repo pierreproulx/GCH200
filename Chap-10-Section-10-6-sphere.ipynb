{
 "cells": [
  {
   "cell_type": "markdown",
   "metadata": {
    "deletable": false,
    "name": "Entête, Phénomènes d'échanges 1"
   },
   "source": [
    "|<img style=\"float:left;\" src=\"http://pierreproulx.espaceweb.usherbrooke.ca/images/usherb_transp.gif\" > |Pierre Proulx, ing, professeur|\n",
    "|:---|:---|\n",
    "|Département de génie chimique et de génie biotechnologique |** GCH200-Phénomènes d'échanges I **|\n"
   ]
  },
  {
   "cell_type": "markdown",
   "metadata": {
    "collapsed": true
   },
   "source": [
    "### Section 10.6, Conduction de la chaleur dans une sphère\n"
   ]
  },
  {
   "cell_type": "code",
   "execution_count": 1,
   "metadata": {
    "collapsed": true
   },
   "outputs": [],
   "source": [
    "#\n",
    "# Pierre Proulx\n",
    "#\n",
    "# Préparation de l'affichage et des outils de calcul symbolique\n",
    "#\n",
    "import sympy as sp\n",
    "from IPython.display import *\n",
    "sp.init_printing(use_latex=True)\n",
    "%matplotlib inline"
   ]
  },
  {
   "cell_type": "code",
   "execution_count": 2,
   "metadata": {
    "collapsed": true
   },
   "outputs": [],
   "source": [
    "# Paramètres, variables et fonctions\n",
    "r,k01,k12,k23,h0,h3=sp.symbols('r k_1 k_2 k_3 h_0 h_3') \n",
    "r0,r1,r2,r3,Ta,Tb=sp.symbols('r_0 r_1 r_2 r_3 T_a T_b')                                                            \n",
    "q=sp.symbols('q')\n",
    "T=sp.Function('T')(r)     "
   ]
  },
  {
   "cell_type": "code",
   "execution_count": 3,
   "metadata": {},
   "outputs": [
    {
     "data": {
      "image/png": "[encoded data removed]",
      "text/latex": [
       "$$C_{1} + \\frac{C_{2}}{r}$$"
      ],
      "text/plain": [
       "     C₂\n",
       "C₁ + ──\n",
       "     r "
      ]
     },
     "metadata": {},
     "output_type": "display_data"
    },
    {
     "data": {
      "image/png": "[encoded data removed]",
      "text/latex": [
       "$$C_{3} + \\frac{C_{4}}{r}$$"
      ],
      "text/plain": [
       "     C₄\n",
       "C₃ + ──\n",
       "     r "
      ]
     },
     "metadata": {},
     "output_type": "display_data"
    },
    {
     "data": {
      "image/png": "[encoded data removed]",
      "text/latex": [
       "$$C_{5} + \\frac{C_{6}}{r}$$"
      ],
      "text/plain": [
       "     C₆\n",
       "C₅ + ──\n",
       "     r "
      ]
     },
     "metadata": {},
     "output_type": "display_data"
    }
   ],
   "source": [
    "eq1=sp.Eq(k01/r**2*sp.Derivative(r**2*sp.Derivative(T,r)),0)\n",
    "eq2=sp.Eq(k12/r**2*sp.Derivative(r**2*sp.Derivative(T,r)),0)\n",
    "eq3=sp.Eq(k23/r**2*sp.Derivative(r**2*sp.Derivative(T,r)),0)\n",
    "T1=sp.dsolve(eq1).rhs\n",
    "T2=sp.dsolve(eq2)\n",
    "T2=T2.subs(sp.symbols('C1'),sp.symbols('C3'))\n",
    "T2=T2.subs(sp.symbols('C2'),sp.symbols('C4')).rhs\n",
    "T3=sp.dsolve(eq3)\n",
    "T3=T3.subs(sp.symbols('C1'),sp.symbols('C5'))\n",
    "T3=T3.subs(sp.symbols('C2'),sp.symbols('C6')).rhs\n",
    "display(T1)\n",
    "display(T2)\n",
    "display(T3)"
   ]
  },
  {
   "cell_type": "code",
   "execution_count": 4,
   "metadata": {
    "collapsed": true
   },
   "outputs": [],
   "source": [
    "# Maintenant on pose les conditions aux limites pour trouver les 6 constantes\n",
    "cl1=sp.Eq(T1.subs(r,r1)-T2.subs(r,r1))   # températures égales sur les points intérieurs\n",
    "cl2=sp.Eq(T2.subs(r,r2)-T3.subs(r,r2))\n",
    "#                           flux égaux sur les points intérieurs\n",
    "cl3=sp.Eq(k01*T1.diff(r).subs(r,r1)-k12*T2.diff(r).subs(r,r1))\n",
    "cl4=sp.Eq(k12*T2.diff(r).subs(r,r2)-k23*T3.diff(r).subs(r,r2))\n",
    "#                           flux donnés par la loi de refroidissement de Newton sur les parois\n",
    "cl5=sp.Eq(-k01*T1.diff(r).subs(r,r0)+h0*(T1.subs(r,r0)-Ta))\n",
    "cl6=sp.Eq(-k23*T3.diff(r).subs(r,r3)+h3*(Tb-T3.subs(r,r3)))"
   ]
  },
  {
   "cell_type": "code",
   "execution_count": 5,
   "metadata": {},
   "outputs": [
    {
     "name": "stdout",
     "output_type": "stream",
     "text": [
      "58.4073955957775*pi 102.212942292611*pi\n"
     ]
    },
    {
     "data": {
      "image/png": "[encoded data removed]",
      "text/plain": [
       "<matplotlib.figure.Figure at 0x7f37e3f1e940>"
      ]
     },
     "metadata": {},
     "output_type": "display_data"
    }
   ],
   "source": [
    "constantes=sp.solve((cl1,cl2,cl3,cl4,cl5,cl6),sp.symbols('C1 C2 C3 C4 C5 C6'))\n",
    "T1=T1.subs(constantes)\n",
    "T2=T2.subs(constantes)\n",
    "T3=T3.subs(constantes)\n",
    "dico={'k_1':4,'k_2':25,'k_3':1,\n",
    "      'h_0':100,'h_3':20,'r_0':0.020,'r_1':0.025,'r_2':0.026,'r_3':0.035,'T_a':100,'T_b':20}\n",
    "T1p=T1.subs(dico)\n",
    "T2p=T2.subs(dico)\n",
    "T3p=T3.subs(dico)\n",
    "# Calcule les taux de chaleur en 0 et en 3 (doivent être égaux) (watts / mètre de longueur)\n",
    "#\n",
    "taux3=(h3*(T3-Tb)*2*sp.pi*r3).subs(dico)      # pour mettre les valeurs numériques dans\n",
    "taux0=(h0*(Ta-T1)*2*sp.pi*r0).subs(dico)      # l'expression symbolique, on subs(dico)\n",
    "#\n",
    "#\n",
    "print(taux3.subs(r,r3.subs(dico)), taux0.subs(r,r0.subs(dico))) \n",
    "import matplotlib.pyplot as plt\n",
    "plt.rcParams['figure.figsize'] = 12, 10\n",
    "#plt.figure(figsize=(12,10))\n",
    "p=sp.plot((T1p,(r,r0.subs(dico),r1.subs(dico)))\n",
    "         ,(T2p,(r,r1.subs(dico),r2.subs(dico)))\n",
    "         ,(T3p,(r,r2.subs(dico),r3.subs(dico)))\n",
    "         ,legend=True,ylabel='T(r)',xlabel='r',show=False) #affiche pas tout de suite\n",
    "p[0].line_color = 'red'\n",
    "p[0].label='de r = r_0 à r=r_1 '\n",
    "p[1].line_color = 'black'\n",
    "p[1].label='de r = r_1 à r=r_2 '\n",
    "p[2].line_color = 'green'\n",
    "p[2].label='de r = r_2 à r=r_3 '\n",
    "p.show()                         # maintenant on est prêts à afficher"
   ]
  }
 ],
 "metadata": {
  "anaconda-cloud": {},
  "kernelspec": {
   "display_name": "Python 3",
   "language": "python",
   "name": "python3"
  },
  "language_info": {
   "codemirror_mode": {
    "name": "ipython",
    "version": 3
   },
   "file_extension": ".py",
   "mimetype": "text/x-python",
   "name": "python",
   "nbconvert_exporter": "python",
   "pygments_lexer": "ipython3",
   "version": "3.6.0"
  }
 },
 "nbformat": 4,
 "nbformat_minor": 1
}
