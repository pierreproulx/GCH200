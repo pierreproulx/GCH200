{
 "cells": [
  {
   "cell_type": "markdown",
   "metadata": {
    "deletable": false,
    "name": "Entête, Phénomènes d'échanges 1"
   },
   "source": [
    "|<img style=\"float:left;\" src=\"http://pierreproulx.espaceweb.usherbrooke.ca/images/usherb_transp.gif\"> |Pierre Proulx, ing, professeur|\n",
    "|:---|:---|\n",
    "|Département de génie chimique et de génie biotechnologique |** GCH200-Phénomènes d'échanges I **|"
   ]
  },
  {
   "cell_type": "markdown",
   "metadata": {},
   "source": [
    "### Section 10.3, Conduction de la chaleur avec une source nucléaire\n",
    "\n",
    ">Cet exemple est assez complexe, il sera très utile tant sur le plan de l'application des bilans thermiques que dans l'utilisation de ** SYMPY ** pour effectuer le travail de solution mathématiques et des manipulations algébriques. Les développements faits dans Transport Phenomena sont à étudier en parallèlle.\n",
    "La figure suivante extraite de Transport Phenomena illustre le problème à traiter. Utilisez le livre pour suivre les développements en détail, vous constaterez facilement que les solutions effectuées avec ** SYMPY ** génèrent initialement des noms de constantes d'intégration différentes, on les renommera dans le ** NOTEBOOK ** pour garder la similarité entre les expressions utilisées dans le texte de référence et ce document, afin de rendre les comparaisons plus faciles.\n",
    "<img src='http://pierreproulx.espaceweb.usherbrooke.ca/images/Chap-10-Section-10-3.png'>\n",
    "Cet exemple peut servir de base à tout autre problème de conduction de chaleur en présence de génération de chaleur, que ce soit par réaction chimique ou biochimique, source électrique ou magnétique.\n",
    "\n",
    "Voyons dans ce qui suit un résumé de l'analyse qui est faite dans Transport Phenomena. Vous verrez dans ce qui suivra qu'en utilisant le solver ** SOLVE ** de ** SYMPY ** , on posera les 4 conditions aux limites simultanément, pas une à la fois comme dans le livre. On profite de la force du calcul symbolique de ** SYMPY **"
   ]
  },
  {
   "cell_type": "markdown",
   "metadata": {},
   "source": [
    "http://pierreproulx.espaceweb.usherbrooke.ca/images/GCH200_Ch10_3_resume.pdf"
   ]
  },
  {
   "cell_type": "markdown",
   "metadata": {},
   "source": [
    ">Maintenant regardons comment on procède en utilisant le calcul formel de ** SYMPY ** pour effectuer les manipulations, intégrales, solutions d'équations différentielles et recherche des constantes provenant des conditions aux limites. On terminera en tracant un profil de température dans les deux milieux."
   ]
  },
  {
   "cell_type": "code",
   "execution_count": 1,
   "metadata": {
    "collapsed": true
   },
   "outputs": [],
   "source": [
    "#\n",
    "# Pierre Proulx\n",
    "#\n",
    "# Préparation de l'affichage et des outils de calcul symbolique\n",
    "#\n",
    "import sympy as sp\n",
    "from IPython.display import *\n",
    "sp.init_printing(use_latex=True)"
   ]
  },
  {
   "cell_type": "code",
   "execution_count": 2,
   "metadata": {},
   "outputs": [
    {
     "data": {
      "image/png": "[encoded data removed]",
      "text/latex": [
       "$$S_{n0} \\left(1 + \\frac{b r^{2}}{R_{C}^{2}}\\right)$$"
      ],
      "text/plain": [
       "    ⎛       2⎞\n",
       "    ⎜    b⋅r ⎟\n",
       "Sₙ₀⋅⎜1 + ────⎟\n",
       "    ⎜       2⎟\n",
       "    ⎝    R_C ⎠"
      ]
     },
     "metadata": {},
     "output_type": "display_data"
    }
   ],
   "source": [
    "# Paramètres, variables et fonctions\n",
    "S_n,r,b,R_F,R_C,S_n0,delta_r,T_0=sp.symbols('S_n,r,b,R_F,R_C,S_n0,delta_r,T_0')                                                            \n",
    "k_C,k_F=sp.symbols('k_C,k_F')             \n",
    "q_F=sp.symbols('q_F')           # Notation de Transport Phenomena\n",
    "T_F=sp.Function('T_F')(r) \n",
    "q_C=sp.symbols('q_C')\n",
    "T_C=sp.Function('T_C')(r)\n",
    "S_n=S_n0*(1+b*(r/R_C)**2)\n",
    "display(S_n)"
   ]
  },
  {
   "cell_type": "code",
   "execution_count": 3,
   "metadata": {},
   "outputs": [
    {
     "data": {
      "image/png": "[encoded data removed]",
      "text/latex": [
       "$$- S_{n0} r^{2} \\left(1 + \\frac{b r^{2}}{R_{C}^{2}}\\right) - 2 k_{F} r \\frac{d}{d r} \\operatorname{T_{F}}{\\left (r \\right )} + r^{2} \\frac{\\partial}{\\partial r}\\left(- k_{F} \\frac{d}{d r} \\operatorname{T_{F}}{\\left (r \\right )}\\right)$$"
      ],
      "text/plain": [
       "         ⎛       2⎞                                              \n",
       "       2 ⎜    b⋅r ⎟           d             2 ∂ ⎛     d         ⎞\n",
       "- Sₙ₀⋅r ⋅⎜1 + ────⎟ - 2⋅k_F⋅r⋅──(T_F(r)) + r ⋅──⎜-k_F⋅──(T_F(r))⎟\n",
       "         ⎜       2⎟           dr              ∂r⎝     dr        ⎠\n",
       "         ⎝    R_C ⎠                                              "
      ]
     },
     "metadata": {},
     "output_type": "display_data"
    },
    {
     "data": {
      "image/png": "[encoded data removed]",
      "text/latex": [
       "$$\\operatorname{T_{F}}{\\left (r \\right )} = C_{1} + \\frac{C_{2}}{r} - \\frac{S_{n0} r^{2}}{6 k_{F}} - \\frac{S_{n0} b r^{4}}{20 R_{C}^{2} k_{F}}$$"
      ],
      "text/plain": [
       "                        2            4 \n",
       "              C₂   Sₙ₀⋅r      Sₙ₀⋅b⋅r  \n",
       "T_F(r) = C₁ + ── - ────── - ───────────\n",
       "              r    6⋅k_F          2    \n",
       "                            20⋅R_C ⋅k_F"
      ]
     },
     "metadata": {},
     "output_type": "display_data"
    }
   ],
   "source": [
    "#\n",
    "# Résultat du bilan dans la sphère fissible d'uranium, solution\n",
    "#\n",
    "eqF=(sp.diff(q_F(r)*r**2,r)-S_n*r**2)\n",
    "# On substitue la loi de Fourier pour trouver le profil de température\n",
    "eq_TF=eqF.subs(q_F(r),-k_F*sp.diff(T_F,r))\n",
    "display(eq_TF)\n",
    "T_F=sp.dsolve(eq_TF,T_F)\n",
    "display( T_F)"
   ]
  },
  {
   "cell_type": "code",
   "execution_count": 4,
   "metadata": {},
   "outputs": [
    {
     "data": {
      "image/png": "[encoded data removed]",
      "text/latex": [
       "$$C_{1} + \\frac{C_{2}}{r} - \\frac{S_{n0} r^{2}}{6 k_{F}} - \\frac{S_{n0} b r^{4}}{20 R_{C}^{2} k_{F}}$$"
      ],
      "text/plain": [
       "               2            4 \n",
       "     C₂   Sₙ₀⋅r      Sₙ₀⋅b⋅r  \n",
       "C₁ + ── - ────── - ───────────\n",
       "     r    6⋅k_F          2    \n",
       "                   20⋅R_C ⋅k_F"
      ]
     },
     "metadata": {},
     "output_type": "display_data"
    }
   ],
   "source": [
    "T_F=T_F.rhs # Voyez ci-dessous pourquoi on utilise .rhs (right hand side) de l'expression\n",
    "display(T_F)\n",
    "q_F=-k_F*sp.diff(T_F,r)"
   ]
  },
  {
   "cell_type": "code",
   "execution_count": 5,
   "metadata": {},
   "outputs": [
    {
     "data": {
      "image/png": "[encoded data removed]",
      "text/latex": [
       "$$C_{1} + \\frac{C_{2}}{r} - \\frac{S_{n0} r^{2}}{6 k_{F}} - \\frac{S_{n0} b r^{4}}{20 R_{C}^{2} k_{F}}$$"
      ],
      "text/plain": [
       "               2            4 \n",
       "     C₂   Sₙ₀⋅r      Sₙ₀⋅b⋅r  \n",
       "C₁ + ── - ────── - ───────────\n",
       "     r    6⋅k_F          2    \n",
       "                   20⋅R_C ⋅k_F"
      ]
     },
     "metadata": {},
     "output_type": "display_data"
    },
    {
     "data": {
      "image/png": "[encoded data removed]",
      "text/latex": [
       "$$- k_{F} \\left(- \\frac{C_{2}}{r^{2}} - \\frac{S_{n0} r}{3 k_{F}} - \\frac{S_{n0} b r^{3}}{5 R_{C}^{2} k_{F}}\\right)$$"
      ],
      "text/plain": [
       "     ⎛                       3 ⎞\n",
       "     ⎜  C₂   Sₙ₀⋅r    Sₙ₀⋅b⋅r  ⎟\n",
       "-k_F⋅⎜- ── - ───── - ──────────⎟\n",
       "     ⎜   2   3⋅k_F        2    ⎟\n",
       "     ⎝  r            5⋅R_C ⋅k_F⎠"
      ]
     },
     "metadata": {},
     "output_type": "display_data"
    },
    {
     "data": {
      "image/png": "[encoded data removed]",
      "text/latex": [
       "$$C_{1} + \\frac{C_{2}}{r}$$"
      ],
      "text/plain": [
       "     C₂\n",
       "C₁ + ──\n",
       "     r "
      ]
     },
     "metadata": {},
     "output_type": "display_data"
    },
    {
     "data": {
      "image/png": "[encoded data removed]",
      "text/latex": [
       "$$\\frac{C_{2} k_{C}}{r^{2}}$$"
      ],
      "text/plain": [
       "C₂⋅k_C\n",
       "──────\n",
       "   2  \n",
       "  r   "
      ]
     },
     "metadata": {},
     "output_type": "display_data"
    }
   ],
   "source": [
    "#\n",
    "# Bilan dans l'aluminium, la solution est plus simple évidemment car il n'y a pas de source\n",
    "#\n",
    "eqC=sp.diff(q_C(r)*r**2,r)\n",
    "eq_TC=eqC.subs(q_C(r),-k_C*sp.diff(T_C,r))\n",
    "T_C=sp.dsolve(eq_TC,T_C)\n",
    "T_C=T_C.rhs\n",
    "q_C=-k_C*sp.diff(T_C,r)\n",
    "display(T_F)\n",
    "display(q_F)\n",
    "display(T_C)\n",
    "display(q_C)"
   ]
  },
  {
   "cell_type": "code",
   "execution_count": 6,
   "metadata": {},
   "outputs": [
    {
     "data": {
      "image/png": "[encoded data removed]",
      "text/latex": [
       "$$- k_{F} \\left(- \\frac{C^{(F)}_{1}}{r^{2}} - \\frac{S_{n0} r}{3 k_{F}} - \\frac{S_{n0} b r^{3}}{5 R_{C}^{2} k_{F}}\\right)$$"
      ],
      "text/plain": [
       "     ⎛                             3 ⎞\n",
       "     ⎜  C_1__(F)   Sₙ₀⋅r    Sₙ₀⋅b⋅r  ⎟\n",
       "-k_F⋅⎜- ──────── - ───── - ──────────⎟\n",
       "     ⎜      2      3⋅k_F        2    ⎟\n",
       "     ⎝     r               5⋅R_C ⋅k_F⎠"
      ]
     },
     "metadata": {},
     "output_type": "display_data"
    },
    {
     "data": {
      "image/png": "[encoded data removed]",
      "text/latex": [
       "$$\\frac{C^{(C)}_{1} k_{C}}{r^{2}}$$"
      ],
      "text/plain": [
       "C_1__(C)⋅k_C\n",
       "────────────\n",
       "      2     \n",
       "     r      "
      ]
     },
     "metadata": {},
     "output_type": "display_data"
    },
    {
     "data": {
      "image/png": "[encoded data removed]",
      "text/latex": [
       "$$\\frac{C^{(F)}_{1}}{r} + C^{(F)}_{2} - \\frac{S_{n0} r^{2}}{6 k_{F}} - \\frac{S_{n0} b r^{4}}{20 R_{C}^{2} k_{F}}$$"
      ],
      "text/plain": [
       "                           2            4 \n",
       "C_1__(F)              Sₙ₀⋅r      Sₙ₀⋅b⋅r  \n",
       "──────── + C_2__(F) - ────── - ───────────\n",
       "   r                  6⋅k_F          2    \n",
       "                               20⋅R_C ⋅k_F"
      ]
     },
     "metadata": {},
     "output_type": "display_data"
    },
    {
     "data": {
      "image/png": "[encoded data removed]",
      "text/latex": [
       "$$\\frac{C^{(C)}_{1}}{r} + C^{(C)}_{2}$$"
      ],
      "text/plain": [
       "C_1__(C)           \n",
       "──────── + C_2__(C)\n",
       "   r               "
      ]
     },
     "metadata": {},
     "output_type": "display_data"
    }
   ],
   "source": [
    "#\n",
    "# Les noms des constantes doivent être changés car sympy a réutilisé les noms C1 et C2 dans les 2 régions.\n",
    "# Remarquez en plus que la nomenclature 1 et 2 est inversée par rapport au livre.\n",
    "#\n",
    "# Pour comparaison, on utilisera les mêmes noms que dans Transport Phenomena, ainsi\n",
    "#  C_1 de l'uranium devient C_2^(F), C_1 de l'alu devient C_2^(F), etc...\n",
    "# \n",
    "T_F=T_F.subs(sp.symbols('C1'),sp.symbols('C_2^(F)'))\n",
    "T_F=T_F.subs(sp.symbols('C2'),sp.symbols('C_1^(F)'))\n",
    "q_F=q_F.subs(sp.symbols('C2'),sp.symbols('C_1^(F)'))\n",
    "T_C=T_C.subs(sp.symbols('C1'),sp.symbols('C_2^(C)'))\n",
    "T_C=T_C.subs(sp.symbols('C2'),sp.symbols('C_1^(C)'))\n",
    "q_C=q_C.subs(sp.symbols('C2'),sp.symbols('C_1^(C)'))\n",
    "#\n",
    "display(q_F)\n",
    "display(q_C)\n",
    "display(T_F)\n",
    "display(T_C)"
   ]
  },
  {
   "cell_type": "markdown",
   "metadata": {},
   "source": [
    "On peut directement ces 4 équations à 4 inconnues en posant les 4 conditions aux limites comme ci-dessous. On n'aura pas de manipulations autres que de poser les conditions, effectuer la solution et ensuite substituer dans les solutions générales (ci-haut). \n",
    "\n",
    "### Attention, ici la fonction ** SOLVE ** de SYMPY retourne une liste ([ ]) qui contient un seul élément, notre dictionnaire contenant la solution. Il faut alors sortir le dictionnaire contenant la solutionde la liste en référant à  l'élément [0]. Regardez-bien dessous. Notez que ** SOLVE** ne retourne pas toujours une liste, seulement quand il détecte qu'il pourrait y avoir des solutions multiples, quand il voit des équations non-linéaires."
   ]
  },
  {
   "cell_type": "code",
   "execution_count": 7,
   "metadata": {},
   "outputs": [
    {
     "data": {
      "image/png": "[encoded data removed]",
      "text/latex": [
       "$$\\left \\{ C^{(C)}_{1} : \\frac{R_{F}^{3} S_{n0}}{3 k_{C}} + \\frac{R_{F}^{5} S_{n0} b}{5 R_{C}^{2} k_{C}}, \\quad C^{(F)}_{1} : 0, \\quad C^{(C)}_{2} : T_{0} - \\frac{R_{F}^{3} S_{n0}}{3 R_{C} k_{C}} - \\frac{R_{F}^{5} S_{n0} b}{5 R_{C}^{3} k_{C}}, \\quad C^{(F)}_{2} : \\frac{1}{R_{C}^{3} k_{C} k_{F}} \\left(R_{C}^{3} T_{0} k_{C} k_{F} + \\frac{R_{C} S_{n0}}{60} R_{F}^{2} k_{C} \\left(10 R_{C}^{2} + 3 R_{F}^{2} b\\right) + \\frac{S_{n0} k_{F}}{15} R_{F}^{2} \\left(R_{C} - R_{F}\\right) \\left(5 R_{C}^{2} + 3 R_{F}^{2} b\\right)\\right)\\right \\}$$"
      ],
      "text/plain": [
       "⎧                                                                             \n",
       "⎪                                                                             \n",
       "⎪             3          5                                        3          5\n",
       "⎨          R_F ⋅Sₙ₀   R_F ⋅Sₙ₀⋅b                               R_F ⋅Sₙ₀   R_F \n",
       "⎪C_1__(C): ──────── + ──────────, C_1__(F): 0, C_2__(C): T₀ - ───────── - ────\n",
       "⎪           3⋅k_C          2                                  3⋅R_C⋅k_C       \n",
       "⎩                     5⋅R_C ⋅k_C                                          5⋅R_\n",
       "\n",
       "                                           2         ⎛      2        2  ⎞     \n",
       "                     3              R_C⋅R_F ⋅Sₙ₀⋅k_C⋅⎝10⋅R_C  + 3⋅R_F ⋅b⎠   R_\n",
       "                  R_C ⋅T₀⋅k_C⋅k_F + ───────────────────────────────────── + ──\n",
       "⋅Sₙ₀⋅b                                                60                      \n",
       "──────, C_2__(F): ────────────────────────────────────────────────────────────\n",
       " 3                                                                3           \n",
       "C ⋅k_C                                                         R_C ⋅k_C⋅k_F   \n",
       "\n",
       " 2                     ⎛     2        2  ⎞⎫\n",
       "F ⋅Sₙ₀⋅k_F⋅(R_C - R_F)⋅⎝5⋅R_C  + 3⋅R_F ⋅b⎠⎪\n",
       "──────────────────────────────────────────⎪\n",
       "                   15                     ⎬\n",
       "──────────────────────────────────────────⎪\n",
       "                                          ⎪\n",
       "                                          ⎭"
      ]
     },
     "metadata": {},
     "output_type": "display_data"
    }
   ],
   "source": [
    "condition_0=sp.Eq(q_F.subs(r,0),0)                     # flux nul au centre\n",
    "condition_1=sp.Eq(q_F.subs(r,R_F)-q_C.subs(r,R_F),0)   # flux égaux à l'interface\n",
    "condition_2=sp.Eq(T_C.subs(r,R_C)-T_0,0)               # température égale à T_0 en r=R_C\n",
    "condition_3=sp.Eq(T_F.subs(r,R_F)-T_C.subs(r,R_F),0)   # températures égales à l'interface\n",
    "conditions=(condition_0,condition_1,condition_2,condition_3)\n",
    "constantes=(sp.symbols('C_1^(C)'),sp.symbols('C_2^(C)'),sp.symbols('C_1^(F)'),sp.symbols('C_2^(F)'))\n",
    "constantes=sp.solve(conditions,constantes,dict=True)     \n",
    "display(constantes[0])"
   ]
  },
  {
   "cell_type": "code",
   "execution_count": 8,
   "metadata": {},
   "outputs": [
    {
     "data": {
      "image/png": "[encoded data removed]",
      "text/latex": [
       "$$- \\frac{S_{n0} r^{2}}{6 k_{F}} - \\frac{S_{n0} b r^{4}}{20 R_{C}^{2} k_{F}} + \\frac{1}{R_{C}^{3} k_{C} k_{F}} \\left(R_{C}^{3} T_{0} k_{C} k_{F} + \\frac{R_{C} S_{n0}}{60} R_{F}^{2} k_{C} \\left(10 R_{C}^{2} + 3 R_{F}^{2} b\\right) + \\frac{S_{n0} k_{F}}{15} R_{F}^{2} \\left(R_{C} - R_{F}\\right) \\left(5 R_{C}^{2} + 3 R_{F}^{2} b\\right)\\right)$$"
      ],
      "text/plain": [
       "                                                  2         ⎛      2        2 \n",
       "                            3              R_C⋅R_F ⋅Sₙ₀⋅k_C⋅⎝10⋅R_C  + 3⋅R_F ⋅\n",
       "       2            4    R_C ⋅T₀⋅k_C⋅k_F + ───────────────────────────────────\n",
       "  Sₙ₀⋅r      Sₙ₀⋅b⋅r                                         60               \n",
       "- ────── - ─────────── + ─────────────────────────────────────────────────────\n",
       "  6⋅k_F          2                                                       3    \n",
       "           20⋅R_C ⋅k_F                                                R_C ⋅k_C\n",
       "\n",
       " ⎞      2                     ⎛     2        2  ⎞\n",
       "b⎠   R_F ⋅Sₙ₀⋅k_F⋅(R_C - R_F)⋅⎝5⋅R_C  + 3⋅R_F ⋅b⎠\n",
       "── + ────────────────────────────────────────────\n",
       "                          15                     \n",
       "─────────────────────────────────────────────────\n",
       "                                                 \n",
       "⋅k_F                                             "
      ]
     },
     "metadata": {},
     "output_type": "display_data"
    },
    {
     "data": {
      "image/png": "[encoded data removed]",
      "text/latex": [
       "$$- k_{F} \\left(- \\frac{S_{n0} r}{3 k_{F}} - \\frac{S_{n0} b r^{3}}{5 R_{C}^{2} k_{F}}\\right)$$"
      ],
      "text/plain": [
       "     ⎛                  3 ⎞\n",
       "     ⎜  Sₙ₀⋅r    Sₙ₀⋅b⋅r  ⎟\n",
       "-k_F⋅⎜- ───── - ──────────⎟\n",
       "     ⎜  3⋅k_F        2    ⎟\n",
       "     ⎝          5⋅R_C ⋅k_F⎠"
      ]
     },
     "metadata": {},
     "output_type": "display_data"
    },
    {
     "data": {
      "image/png": "[encoded data removed]",
      "text/latex": [
       "$$T_{0} + \\frac{1}{r} \\left(\\frac{R_{F}^{3} S_{n0}}{3 k_{C}} + \\frac{R_{F}^{5} S_{n0} b}{5 R_{C}^{2} k_{C}}\\right) - \\frac{R_{F}^{3} S_{n0}}{3 R_{C} k_{C}} - \\frac{R_{F}^{5} S_{n0} b}{5 R_{C}^{3} k_{C}}$$"
      ],
      "text/plain": [
       "        3          5                               \n",
       "     R_F ⋅Sₙ₀   R_F ⋅Sₙ₀⋅b                         \n",
       "     ──────── + ──────────                         \n",
       "      3⋅k_C          2           3          5      \n",
       "                5⋅R_C ⋅k_C    R_F ⋅Sₙ₀   R_F ⋅Sₙ₀⋅b\n",
       "T₀ + ───────────────────── - ───────── - ──────────\n",
       "               r             3⋅R_C⋅k_C        3    \n",
       "                                         5⋅R_C ⋅k_C"
      ]
     },
     "metadata": {},
     "output_type": "display_data"
    },
    {
     "data": {
      "image/png": "[encoded data removed]",
      "text/latex": [
       "$$\\frac{k_{C}}{r^{2}} \\left(\\frac{R_{F}^{3} S_{n0}}{3 k_{C}} + \\frac{R_{F}^{5} S_{n0} b}{5 R_{C}^{2} k_{C}}\\right)$$"
      ],
      "text/plain": [
       "    ⎛   3          5      ⎞\n",
       "    ⎜R_F ⋅Sₙ₀   R_F ⋅Sₙ₀⋅b⎟\n",
       "k_C⋅⎜──────── + ──────────⎟\n",
       "    ⎜ 3⋅k_C          2    ⎟\n",
       "    ⎝           5⋅R_C ⋅k_C⎠\n",
       "───────────────────────────\n",
       "              2            \n",
       "             r             "
      ]
     },
     "metadata": {},
     "output_type": "display_data"
    }
   ],
   "source": [
    "T_F=T_F.subs(constantes[0])\n",
    "q_F=q_F.subs(constantes[0])\n",
    "T_C=T_C.subs(constantes[0])\n",
    "q_C=q_C.subs(constantes[0])\n",
    "display(T_F)\n",
    "display(q_F)\n",
    "display(T_C)\n",
    "display(q_C)"
   ]
  },
  {
   "cell_type": "code",
   "execution_count": 9,
   "metadata": {},
   "outputs": [
    {
     "data": {
      "image/png": "[encoded data removed]",
      "text/plain": [
       "<matplotlib.figure.Figure at 0x7fe7bc352080>"
      ]
     },
     "metadata": {},
     "output_type": "display_data"
    }
   ],
   "source": [
    "### Comparer avec le profil montré sur la figure 10.3-1 en utilisant des valeurs estimées au PIF!\n",
    "dico={'k_F':22,'k_C':140,'b':100,'R_F':0.02,'R_C':0.025,'S_n0':1e7,'T_0':300}\n",
    "T_Fplot=T_F.subs(dico)\n",
    "T_Cplot=T_C.subs(dico)\n",
    "import matplotlib.pyplot as plt\n",
    "plt.rcParams['figure.figsize']=10,8\n",
    "p = sp.plot((T_Fplot,(r,0,0.02)),(T_Cplot,(r,0.02,0.03))\n",
    "            ,legend=True,xlabel='r',ylabel='T [K]'\n",
    "            , title='Carburant nucléaire et coquille', show=False) \n",
    "p[0].line_color = 'red'\n",
    "p[0].label='Uranium'\n",
    "p[1].line_color = 'blue'\n",
    "p[1].label='Aluminium'\n",
    "p.show()"
   ]
  }
 ],
 "metadata": {
  "anaconda-cloud": {},
  "kernelspec": {
   "display_name": "Python 3",
   "language": "python",
   "name": "python3"
  },
  "language_info": {
   "codemirror_mode": {
    "name": "ipython",
    "version": 3
   },
   "file_extension": ".py",
   "mimetype": "text/x-python",
   "name": "python",
   "nbconvert_exporter": "python",
   "pygments_lexer": "ipython3",
   "version": "3.6.4"
  }
 },
 "nbformat": 4,
 "nbformat_minor": 1
}
