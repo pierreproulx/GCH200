{
 "cells": [
  {
   "cell_type": "markdown",
   "metadata": {
    "deletable": false,
    "name": "Entête, Phénomènes d'échanges 1"
   },
   "source": [
    "|<img style=\"float:left;\" src=\"http://pierreproulx.espaceweb.usherbrooke.ca/images/usherb_transp.gif\"> |Pierre Proulx, ing, professeur|\n",
    "|:---|:---|\n",
    "|Département de génie chimique et de génie biotechnologique |** GCH200-Phénomènes d'échanges I **|\n",
    "\n"
   ]
  },
  {
   "cell_type": "markdown",
   "metadata": {},
   "source": [
    "### Section 6.3, calcul de la vitesse terminale de chute libre d'une particule quelconque"
   ]
  },
  {
   "cell_type": "code",
   "execution_count": 8,
   "metadata": {
    "collapsed": true
   },
   "outputs": [],
   "source": [
    "#\n",
    "# Pierre Proulx\n",
    "#\n",
    "# Calcul utilisant numpy et scipy quand la solution analytique n'existe pas\n",
    "# sympy n'est pas capable de solutionner alors on utilise du calcul numérique: scipy\n",
    "# Les techniques de recherche utilisées par scipy sont celles que vous voyez dans le cours GCB245"
   ]
  },
  {
   "cell_type": "code",
   "execution_count": 18,
   "metadata": {},
   "outputs": [],
   "source": [
    "import numpy as np\n",
    "import math\n",
    "import thermo as th\n",
    "from scipy.optimize import fsolve, root # C'est le solver de scipy, un peu comme dans 'excel'\n",
    "#\n",
    "# définir la fonction dont on cherche les zéros\n",
    "#\n",
    "def f(vinf):\n",
    "    f1=0.44 # équation 6.3-16 pour f\n",
    "    f2=4./3.*g*D/(vinf**2)*(rhop-rho)/rho         # équation 6.1-7 pour f\n",
    "    return f1-f2    # les deux doivent être égales, alors on cherche vinf qui fait f1=f2"
   ]
  },
  {
   "cell_type": "code",
   "execution_count": 20,
   "metadata": {},
   "outputs": [
    {
     "name": "stdout",
     "output_type": "stream",
     "text": [
      "[57.25767091]  Le nombre de Reynolds est  [183794.29776872]\n"
     ]
    }
   ],
   "source": [
    "T,P=300,101325\n",
    "air=th.Mixture(('nitrogen','oxygen'),zs=(0.8,0.2))\n",
    "rho,vis==air.rhog,air.mug\n",
    "g,D,rhop=9.81,0.05,2600    # valeurs en S.I, 0.005 m (5 mm) et 2600 kg/m3\n",
    "vinf=fsolve(f,1)   # fonction de recherche de zéros de scipy.optimize, valeur 'guess' de 1\n",
    "print (vinf,' Le nombre de Reynolds est ',rho*vinf*D/vis)"
   ]
  },
  {
   "cell_type": "code",
   "execution_count": null,
   "metadata": {},
   "outputs": [],
   "source": []
  }
 ],
 "metadata": {
  "anaconda-cloud": {},
  "kernelspec": {
   "display_name": "Python 3",
   "language": "python",
   "name": "python3"
  },
  "language_info": {
   "codemirror_mode": {
    "name": "ipython",
    "version": 3
   },
   "file_extension": ".py",
   "mimetype": "text/x-python",
   "name": "python",
   "nbconvert_exporter": "python",
   "pygments_lexer": "ipython3",
   "version": "3.6.4"
  }
 },
 "nbformat": 4,
 "nbformat_minor": 1
}
