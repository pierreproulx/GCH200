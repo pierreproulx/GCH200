{
 "cells": [
  {
   "cell_type": "markdown",
   "metadata": {
    "deletable": false,
    "name": "Entête, Phénomènes d'échanges 1"
   },
   "source": [
    "|<img style=\"float:left;\" src=\"http://pierreproulx.espaceweb.usherbrooke.ca/images/usherb_transp.gif\"> |Pierre Proulx, ing, professeur|\n",
    "|:---|:---|\n",
    "|Département de génie chimique et de génie biotechnologique |** GCH200-Phénomènes d'échanges I **|"
   ]
  },
  {
   "cell_type": "markdown",
   "metadata": {},
   "source": [
    "### Section 10-5\n",
    "\n",
    "> Voici un problème qui devient très complexe à traiter __à la main__ et ou l'utilisation de calculateur formel de type **sympy, mathematica/wolfram, maple, mupad, maxima, mathcad ** ou tout autre calculateur symbolique devient très utile. Ainsi dans le document qui suit, seulement la pose du problème est nécessaire, tout le travail mathématique est fait par **sympy**.  \n",
    "\n",
    ">Le réacteur catalytique a 3 sections, seule la section du milieu a une source thermique\n",
    "\n",
    "\n",
    "><img src='http://pierreproulx.espaceweb.usherbrooke.ca/images/Chap-10-Section-10-5-1.png'>\n",
    "\n",
    "\n",
    ">les équations de bilans donnent:\n",
    "<img src='http://pierreproulx.espaceweb.usherbrooke.ca/images/Chap-10-Section-10-5-2.png'>\n",
    "\n",
    ">Dans le livre de Transport Phenomena, Bird utilise un artifice afin de solutionner plus facilement, il considère que la conduction axiale est négligeable (c'est le terme contenant la conductivité thermique). Dans ce qui suit, nous ne ferons pas cette hypothèse, ** SYMPY ** nous aide à solutionner et les manipulations algébriques sont faites automatiquement. Nous modifierons aussi les conditions de géométrie légèrement (on ne considèrera pas z=-infini à l'entrée, mais z=0). On n'utilisera pas des variables adimensionelles mais z=0, z=1 et z=3 comme dimensions du réacteur. La solution sera ainsi un peu différente de celle du livre. Le tracage des courbes nous confirmera que la solution est bien similaire.\n",
    "\n",
    ">>> Utilisons le produit $\\rho v$ au lieu de $\\rho$ et $v$ séparément dans ce qui suit. Le produit  $\\rho v$ est une constante puisqu'il représente le flux massique et qu'on ne considère pas la compressibilité."
   ]
  },
  {
   "cell_type": "code",
   "execution_count": 10,
   "metadata": {},
   "outputs": [],
   "source": [
    "#\n",
    "# Pierre Proulx\n",
    "#\n",
    "#\n",
    "# Préparation de l'affichage et des outils de calcul symbolique\n",
    "#\n",
    "import sympy as sp\n",
    "from IPython.display import *\n",
    "sp.init_printing(use_latex=True)\n",
    "%matplotlib inline"
   ]
  },
  {
   "cell_type": "code",
   "execution_count": 11,
   "metadata": {},
   "outputs": [],
   "source": [
    "# Paramètres, variables et fonctions, on utilise directement les équations définies\n",
    "# plus haut\n",
    "#\n",
    "rhov,c_p,k,S,z=sp.symbols('rhov,c_p,k,S,z')                                                            \n",
    "T_1=sp.Function('T_1')(z)\n",
    "T_2=sp.Function('T_2')(z)\n",
    "T_3=sp.Function('T_3')(z)\n",
    "eq1=sp.Eq(k*sp.diff(T_1,z,z)-rhov*c_p*sp.diff(T_1,z))\n",
    "eq2=sp.Eq(k*sp.diff(T_2,z,z)-rhov*c_p*sp.diff(T_2,z)+S)\n",
    "eq3=sp.Eq(k*sp.diff(T_3,z,z)-rhov*c_p*sp.diff(T_3,z))\n",
    "T_1=sp.dsolve(eq1,T_1)\n",
    "T_2=sp.dsolve(eq2,T_2)  \n",
    "T_3=sp.dsolve(eq3,T_3)\n",
    "#\n",
    "# Renommer les constantes C1 et C2 dans les équations 2 et 3\n",
    "#\n",
    "T_2=T_2.subs(sp.symbols('C1'),sp.symbols('C3'))\n",
    "T_2=T_2.subs(sp.symbols('C2'),sp.symbols('C4'))\n",
    "T_3=T_3.subs(sp.symbols('C1'),sp.symbols('C5'))\n",
    "T_3=T_3.subs(sp.symbols('C2'),sp.symbols('C6'))"
   ]
  },
  {
   "cell_type": "code",
   "execution_count": 12,
   "metadata": {},
   "outputs": [],
   "source": [
    "#\n",
    "# On peut calculer les flux de Fourier à partir des températures obtenues avec dsolve\n",
    "#\n",
    "T_1=T_1.rhs\n",
    "T_2=T_2.rhs\n",
    "T_3=T_3.rhs\n",
    "q_1 =-k*sp.diff(T_1,z)\n",
    "q_2 =-k*sp.diff(T_2,z)\n",
    "q_3 =-k*sp.diff(T_3,z)"
   ]
  },
  {
   "cell_type": "code",
   "execution_count": 13,
   "metadata": {},
   "outputs": [],
   "source": [
    "# écrivons les équations de base qui seront utilisées, au besoin\n",
    "'''display('Les solutions générales ont été obtenues facilement avec dsolve, elles présentent 6 constantes inconnues')\n",
    "display('car il y a 3 équations de base (10-5.6 à 10-5.8 qui sont du deuxième ordre chacune')\n",
    "display(T_1)\n",
    "display(T_2)\n",
    "display(T_3)\n",
    "display(q_1)\n",
    "display(q_2)\n",
    "display(q_3)\n",
    "''';"
   ]
  },
  {
   "cell_type": "code",
   "execution_count": 14,
   "metadata": {},
   "outputs": [],
   "source": [
    "# Les conditions aux limites, 6 équations 6 inconnues.#\n",
    "#\n",
    "T_0,z_1,z_2=sp.symbols('T_0,z_1,z_2')\n",
    "condition_1=T_1.subs(z,0)-T_0                   # T_1(0)=T_0\n",
    "condition_2=T_1.subs(z,z_1)-T_2.subs(z,z_1)     # T_1(z1) = T_2(z1)\n",
    "condition_3=q_1.subs(z,z_1)-q_2.subs(z,z_1)     # q_1(z1) = q_2(z1)\n",
    "condition_4=T_2.subs(z,z_2)-T_3.subs(z,z_2)     # T_2(z2) = T_3(z2)\n",
    "condition_5=q_2.subs(z,z_2)-q_3.subs(z,z_2)     # q_2(z2) = q_2(z2)\n",
    "condition_6=q_3.subs((z,sp.oo),0)               # q_3(inf) = 0"
   ]
  },
  {
   "cell_type": "code",
   "execution_count": 15,
   "metadata": {},
   "outputs": [],
   "source": [
    "'''\n",
    "display(condition_1)\n",
    "display(condition_2)\n",
    "display(condition_3)   \n",
    "display(condition_4)\n",
    "display(condition_5)\n",
    "display(condition_6)\n",
    "''';"
   ]
  },
  {
   "cell_type": "code",
   "execution_count": 16,
   "metadata": {},
   "outputs": [],
   "source": [
    "# Ici on résoud le problème des 6 conditions aux limites pour trouver les 6 constantes\n",
    "conditions=[condition_1,condition_2,condition_3,condition_4,condition_5,condition_6]\n",
    "constantes=sp.solve(conditions,sp.symbols('C1,C2,C3,C4,C5,C6'))\n",
    "#display('Les constantes C1 à C6 sont obtenues facilement, même si elles sont très lourdes',constantes)\n",
    "# Voila le travail."
   ]
  },
  {
   "cell_type": "code",
   "execution_count": 17,
   "metadata": {},
   "outputs": [],
   "source": [
    "T_1=T_1.subs(constantes)\n",
    "T_2=T_2.subs(constantes)\n",
    "T_3=T_3.subs(constantes)\n",
    "q_1=q_1.subs(constantes)\n",
    "q_2=q_2.subs(constantes)\n",
    "q_3=q_3.subs(constantes)\n",
    "'''\n",
    "display('Les solutions complètes de T1, T2, T3, q1, q2 et q3 sont obtenues en substituant les constantes')\n",
    "display(T_1)\n",
    "display(T_2)\n",
    "display(T_3)\n",
    "display(q_1)\n",
    "display(q_2)\n",
    "display(q_3)\n",
    "''';"
   ]
  },
  {
   "cell_type": "markdown",
   "metadata": {
    "collapsed": true
   },
   "source": [
    ">> On peut encore une fois essayer de tracer ces profils en substituant des valeurs pour les paramètres. Le profil dans la section 3 doit être plat car il n'y a pas de flux, la température sera une constante. Dans la section 10-5, Bird néglige le terme de conduction de la chaleur, ce qui donne donne les résulats suivants:\n",
    "<img src='http://pierreproulx.espaceweb.usherbrooke.ca/images/Chap-10-Section-10-5-3.png'>\n",
    ">> Vous pouvez constater que les profils de température sont un peu étranges car la température change brusquement, cette cassure dans le profil thermique n'est pas complètement réaliste. Les graphes qu'on obtient en tenant compte de la conduction thermique sont plus réalistes, voyez ci-bas."
   ]
  },
  {
   "cell_type": "code",
   "execution_count": 18,
   "metadata": {},
   "outputs": [
    {
     "data": {
      "image/png": "[encoded data removed]",
      "text/plain": [
       "<matplotlib.figure.Figure at 0x11baf4f98>"
      ]
     },
     "metadata": {},
     "output_type": "display_data"
    }
   ],
   "source": [
    "dico1={'rhov':.005,'c_p':1000,'z_1':1,'z_2':2,'k':1,'S':1000,'T_0':293}\n",
    "T_1plot=T_1.subs(dico1)\n",
    "T_2plot=T_2.subs(dico1)\n",
    "T_3plot=T_3.subs(dico1)\n",
    "dico2={'rhov':.03,'c_p':1000,'z_1':1,'z_2':2,'k':1,'S':6000,'T_0':293}\n",
    "T_4plot=T_1.subs(dico2)\n",
    "T_5plot=T_2.subs(dico2)\n",
    "T_6plot=T_3.subs(dico2)\n",
    "import matplotlib.pyplot as plt\n",
    "plt.rcParams['figure.figsize'] = 10,6\n",
    "V1=sp.Function('V1')(z)\n",
    "V2=sp.Function('V2')(z)\n",
    "p=sp.plot((T_1plot,(z,0,1)),(T_2plot,(z,1,2)),(T_3plot,(z,2,3)),\n",
    "        (T_4plot,(z,0,1)),(T_5plot,(z,1,2)),(T_6plot,(z,2,3)),\n",
    "        show=False,ylabel='T',xlabel='z')\n",
    "p[0].label='source=1000,rhov=0.005, section inerte'\n",
    "p[1].label='reaction '\n",
    "p[2].label='inerte'\n",
    "p[3].label='source=6000,rhov=0.03, section inerte'\n",
    "p[4].label='reaction'\n",
    "p[5].label='inerte'\n",
    "p[0].line_color='blue'\n",
    "p[1].line_color='cyan'\n",
    "p[2].line_color='red'\n",
    "p[3].line_color='pink'\n",
    "p[4].line_color='black'\n",
    "p[5].line_color='gray'\n",
    "p.title='En cyan:source=1000,rhov=0.005 et en noir:source=6000,rhov=0.03 '\n",
    "p.legend=False\n",
    "p.show()"
   ]
  },
  {
   "cell_type": "code",
   "execution_count": null,
   "metadata": {},
   "outputs": [],
   "source": []
  }
 ],
 "metadata": {
  "anaconda-cloud": {},
  "kernelspec": {
   "display_name": "Python 3",
   "language": "python",
   "name": "python3"
  },
  "language_info": {
   "codemirror_mode": {
    "name": "ipython",
    "version": 3
   },
   "file_extension": ".py",
   "mimetype": "text/x-python",
   "name": "python",
   "nbconvert_exporter": "python",
   "pygments_lexer": "ipython3",
   "version": "3.6.4"
  }
 },
 "nbformat": 4,
 "nbformat_minor": 1
}
