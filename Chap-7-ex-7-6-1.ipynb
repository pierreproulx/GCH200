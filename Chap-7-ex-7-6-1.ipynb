{
 "cells": [
  {
   "cell_type": "markdown",
   "metadata": {
    "deletable": false,
    "name": "Entête, Phénomènes d'échanges 1"
   },
   "source": [
    "|<img style=\"float:left;\" src=\"http://pierreproulx.espaceweb.usherbrooke.ca/images/usherb_transp.gif\"> |Pierre Proulx, ing, professeur|\n",
    "|:---|:---|\n",
    "|Département de génie chimique et de génie biotechnologique |** GCH200-Phénomènes d'échanges I **|\n"
   ]
  },
  {
   "cell_type": "markdown",
   "metadata": {},
   "source": [
    "## Exemple 7-6.1\n",
    "\n",
    "<img src='http://pierreproulx.espaceweb.usherbrooke.ca/images/GCH200-Chap7-E61.png'>\n",
    "\n",
    "#### Solution\n",
    "\n",
    "##### Bilan de masse\n",
    "$\\begin{equation*}\n",
    "  \\boxed{\\rho v_1 S_1 - \\rho v_2 S_2 = 0}\n",
    "  \\end{equation*}$ (1)\n",
    "\n",
    "\n",
    "##### Bilan de quantité de mouvement linéaire dans la direction z\n",
    "\n",
    "$\\begin{equation*}\n",
    "  \\boxed{ ( v_1w_1 + p_1 S_1)-( v_2w_2 + p_2 S_2)  =\n",
    "          \\vec F_{fluide \\rightarrow surface}}\n",
    "  \\end{equation*}$ (2)\n",
    "\n",
    "mais la force que le fluide exerce sur la conduite peut être évalué en reconnaissant que la force exercée par le fluide sur la conduite dans la direction z est principalement la pression exercée par le fluide sur la surface annulaire juste après l'expansion. Donc $F =-p_1  (S_2-S_1)$ En substituant dans (2):\n",
    "\n",
    "$\\begin{equation*}\n",
    "  \\boxed{ ( v_1w + p_1 S_1)-( v_2w + p_2 S_2)  =\n",
    "          -p_1  (S_2-S_1)}\n",
    "  \\end{equation*}$ \n",
    "\n",
    "Souvenons-nous que $w_1=w_2=w$ et que $\\rho v_1S_1=\\rho v_2 S_2$\n",
    "\n",
    "$\\begin{equation*}\n",
    "  \\boxed{ S_1( \\rho v_1^2 + p_1) - S_2( \\rho v_2^2 + p_2)  =\n",
    "          -p_1  (S_2-S_1)}\n",
    "  \\end{equation*}$ \n",
    "\n",
    "ou\n",
    "\n",
    "$\\begin{equation*}\n",
    "  \\boxed{ S_1 \\rho v_1^2  - S_2 \\rho v_2^2 = -S_2(p_1-p_2 )}\n",
    "  \\end{equation*}$ (3)\n",
    "\n",
    "## 4. Bilan d'énergie mécanique\n",
    "\n",
    "$\\begin{equation*}\n",
    "  \\boxed{  \\bigg ( \\frac {1}{2} v_1^2 +  \\frac {p_1}{\\rho_1} \\bigg)-\n",
    "           \\bigg ( \\frac {1}{2} v_2^2 +  \\frac {p_2}{\\rho_2} \\bigg )=\n",
    "          E_v}\n",
    "  \\end{equation*}$\n"
   ]
  },
  {
   "cell_type": "code",
   "execution_count": null,
   "metadata": {},
   "outputs": [],
   "source": [
    "# Préparation de l'affichage et des outils de calcul symbolique\n",
    "#\n",
    "import sympy as sp\n",
    "from IPython.display import *\n",
    "sp.init_printing(use_latex=True)\n",
    "%matplotlib inline\n",
    "#\n",
    "v_1,v_2,p_1,p_2,S_1,S_2,rho,E_v=sp.symbols('v_1,v_2,p_1,p_2,S_1,S_2,rho,E_v')\n",
    "eq1=sp.Eq(v_1*S_1-v_2*S_2)\n",
    "eq2=sp.Eq(v_1**2*S_1*rho-v_2**2*S_2*rho+S_2*(p_1-p_2))\n",
    "eq3=sp.Eq(1/2*v_1**2+p_1/rho-1/2*v_2**2+p_2/rho -E_v)\n",
    "solution=sp.solve((eq1,eq2,eq3),v_2,p_2,E_v)\n",
    "display(solution[0][2].simplify())"
   ]
  },
  {
   "cell_type": "code",
   "execution_count": null,
   "metadata": {},
   "outputs": [],
   "source": []
  }
 ],
 "metadata": {
  "anaconda-cloud": {},
  "kernelspec": {
   "display_name": "Python 3",
   "language": "python",
   "name": "python3"
  },
  "language_info": {
   "codemirror_mode": {
    "name": "ipython",
    "version": 3
   },
   "file_extension": ".py",
   "mimetype": "text/x-python",
   "name": "python",
   "nbconvert_exporter": "python",
   "pygments_lexer": "ipython3",
   "version": "3.6.0"
  }
 },
 "nbformat": 4,
 "nbformat_minor": 1
}
