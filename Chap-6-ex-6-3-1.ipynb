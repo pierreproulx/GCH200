{
 "cells": [
  {
   "cell_type": "markdown",
   "metadata": {
    "deletable": false,
    "name": "Entête, Phénomènes d'échanges 1"
   },
   "source": [
    "|<img style=\"float:left;\" src=\"http://pierreproulx.espaceweb.usherbrooke.ca/images/usherb_transp.gif\"> |Pierre Proulx, ing, professeur|\n",
    "|:---|:---|\n",
    "|Département de génie chimique et de génie biotechnologique |** GCH200-Phénomènes d'échanges I **|\n",
    "\n"
   ]
  },
  {
   "cell_type": "markdown",
   "metadata": {},
   "source": [
    "### Section 6.3, exemple 6.3-1\n",
    "\n",
    "* seulement en régime de Stokes. Autrement il faut utiliser numpy."
   ]
  },
  {
   "cell_type": "code",
   "execution_count": 8,
   "metadata": {
    "collapsed": true
   },
   "outputs": [],
   "source": [
    "#\n",
    "# Pierre Proulx\n",
    "#\n",
    "# Préparation de l'affichage et des outils de calcul symbolique\n",
    "#\n",
    "import sympy as sp\n",
    "from IPython.display import *\n",
    "sp.init_printing(use_latex=True)"
   ]
  },
  {
   "cell_type": "code",
   "execution_count": 9,
   "metadata": {
    "collapsed": true
   },
   "outputs": [],
   "source": [
    "# Paramètres, variables et fonctions\n",
    "rho_s,rho,D,v_inf,mu,g=sp.symbols('rho_s,rho,D,v_inf,mu,g')                                                            "
   ]
  },
  {
   "cell_type": "code",
   "execution_count": 10,
   "metadata": {},
   "outputs": [
    {
     "data": {
      "image/png": "[encoded data removed]",
      "text/latex": [
       "$$\\frac{1.33333333333333 D g}{\\rho v_{inf}^{2}} \\left(- \\rho + \\rho_{s}\\right)$$"
      ],
      "text/plain": [
       "1.33333333333333⋅D⋅g⋅(-ρ + ρₛ)\n",
       "──────────────────────────────\n",
       "                  2           \n",
       "           ρ⋅v_inf            "
      ]
     },
     "metadata": {},
     "output_type": "display_data"
    },
    {
     "data": {
      "image/png": "[encoded data removed]",
      "text/latex": [
       "$$\\frac{24 \\mu}{D \\rho v_{inf}}$$"
      ],
      "text/plain": [
       "   24⋅μ  \n",
       "─────────\n",
       "D⋅ρ⋅v_inf"
      ]
     },
     "metadata": {},
     "output_type": "display_data"
    }
   ],
   "source": [
    "f=4/3*g*D/v_inf**2*(rho_s-rho)/rho  # equation définissant le facteur f\n",
    "display(f)\n",
    "Re=rho*v_inf*D/mu                           \n",
    "f_v=(24/Re)        # équation calculant f par la friction, régime de Stokes\n",
    "display(f_v)"
   ]
  },
  {
   "cell_type": "code",
   "execution_count": 11,
   "metadata": {},
   "outputs": [
    {
     "data": {
      "image/png": "[encoded data removed]",
      "text/latex": [
       "$$\\left \\{ v_{inf} : - \\frac{0.0555555555555556 g}{\\mu} D^{2} \\left(\\rho - \\rho_{s}\\right)\\right \\}$$"
      ],
      "text/plain": [
       "⎧                            2            ⎫\n",
       "⎪       -0.0555555555555556⋅D ⋅g⋅(ρ - ρₛ) ⎪\n",
       "⎨v_inf: ──────────────────────────────────⎬\n",
       "⎪                       μ                 ⎪\n",
       "⎩                                         ⎭"
      ]
     },
     "metadata": {},
     "output_type": "display_data"
    }
   ],
   "source": [
    "# Dictionnaire contenant les valeurs des paramètres. \n",
    "# Valeurs prises pour avoir le régime de Stokes\n",
    "dico={'rho_s':1000,'rho':1.4,'D':50e-6,'mu':1.6e-5,'g':9.81}\n",
    "#\n",
    "eq=sp.Eq(f-f_v)\n",
    "v=sp.solve((eq,0),v_inf)\n",
    "display(v)"
   ]
  },
  {
   "cell_type": "code",
   "execution_count": 12,
   "metadata": {},
   "outputs": [
    {
     "data": {
      "image/png": "[encoded data removed]",
      "text/latex": [
       "$$0.08503703125$$"
      ],
      "text/plain": [
       "0.0850370312500000"
      ]
     },
     "metadata": {},
     "output_type": "display_data"
    }
   ],
   "source": [
    "v=v_inf.subs(v)\n",
    "v=v.subs(dico)\n",
    "display(v)"
   ]
  },
  {
   "cell_type": "code",
   "execution_count": 13,
   "metadata": {},
   "outputs": [
    {
     "data": {
      "image/png": "[encoded data removed]",
      "text/latex": [
       "$$0.37203701171875$$"
      ],
      "text/plain": [
       "0.372037011718750"
      ]
     },
     "metadata": {},
     "output_type": "display_data"
    }
   ],
   "source": [
    "Re=Re.subs(dico)\n",
    "Re=Re.subs(v_inf,v)\n",
    "display(Re)"
   ]
  },
  {
   "cell_type": "markdown",
   "metadata": {
    "collapsed": true
   },
   "source": [
    "Maintenant, regardons un cas plus général, une particule qui tombe mais qui n'est pas dans le régime de Stokes.\n",
    "\n",
    "On doit maintenant utiliser un autre outil, pas *sympy* mais plutot *scipy*, qui effectuera la recherche des racines numériquement, pas analytiquement.\n",
    "\n",
    "Mettons les valeurs numériques de l'exemple 6-3.1"
   ]
  },
  {
   "cell_type": "code",
   "execution_count": 14,
   "metadata": {},
   "outputs": [
    {
     "name": "stdout",
     "output_type": "stream",
     "text": [
      "[ 2.07031821] cm\n"
     ]
    }
   ],
   "source": [
    "import numpy as np\n",
    "import math\n",
    "from scipy.optimize import fsolve, root\n",
    "#\n",
    "# définir la fonction dont on cherche les zéros\n",
    "#\n",
    "def f(D):\n",
    "    f1=(math.sqrt(24*vis/(rho*vinf*D))+0.5407)**2\n",
    "    f2=4./3.*g*D/(vinf**2)*(rhop-rho)/rho\n",
    "    return f1-f2\n",
    "#\n",
    "# valeurs des paramètres\n",
    "#                       \n",
    "rhop=2620\n",
    "Mair=28.966\n",
    "rho=1590\n",
    "vis=0.00958                 \n",
    "g=9.81\n",
    "vinf=0.65\n",
    "D=fsolve(f,.1)   # fonction de recherche de zéros de scipy.optimize, valeur 'guess' de .1\n",
    "print(D*100, 'cm')"
   ]
  }
 ],
 "metadata": {
  "anaconda-cloud": {},
  "kernelspec": {
   "display_name": "Python 3",
   "language": "python",
   "name": "python3"
  },
  "language_info": {
   "codemirror_mode": {
    "name": "ipython",
    "version": 3
   },
   "file_extension": ".py",
   "mimetype": "text/x-python",
   "name": "python",
   "nbconvert_exporter": "python",
   "pygments_lexer": "ipython3",
   "version": "3.6.4"
  }
 },
 "nbformat": 4,
 "nbformat_minor": 1
}
