{
 "cells": [
  {
   "cell_type": "markdown",
   "metadata": {
    "deletable": false,
    "name": "Entête, Phénomènes d'échanges 1"
   },
   "source": [
    "|<img style=\"float:left;\" src=\"http://pierreproulx.espaceweb.usherbrooke.ca/images/usherb_transp.gif\" > |Pierre Proulx, ing, professeur|\n",
    "|:---|:---|\n",
    "|Département de génie chimique et de génie biotechnologique |** GCH200-Phénomènes d'échanges I **|\n",
    "\n"
   ]
  },
  {
   "cell_type": "markdown",
   "metadata": {},
   "source": [
    "### Section 18-2, diffusion binaire dans un milieu stagnant\n",
    "\n",
    "<img src='http://pierreproulx.espaceweb.usherbrooke.ca/images/Chap-18-Section-18-2.png'>\n",
    "\n",
    "Voir les hypothèses dans le livre de Transport Phenomena.\n"
   ]
  },
  {
   "cell_type": "code",
   "execution_count": 1,
   "metadata": {
    "collapsed": true
   },
   "outputs": [],
   "source": [
    "#\n",
    "# Pierre Proulx\n",
    "#\n",
    "#\n",
    "# Préparation de l'affichage et des outils de calcul symbolique\n",
    "#\n",
    "import sympy as sp\n",
    "from IPython.display import *\n",
    "sp.init_printing(use_latex=True)\n",
    "%matplotlib inline"
   ]
  },
  {
   "cell_type": "code",
   "execution_count": 2,
   "metadata": {
    "collapsed": true
   },
   "outputs": [],
   "source": [
    "# Paramètres, variables et fonctions\n",
    "\n",
    "z_1,z_2,z,D_AB,X_A1,X_A2,S,delta_z,C1,C2=sp.symbols('z_1,z_2,z,D_AB,X_A1,X_A2,S,delta_z,C1,C2')                                                            \n",
    "N_A=sp.symbols('N_A')\n",
    "X_A=sp.Function('X_A')(z)     "
   ]
  },
  {
   "cell_type": "code",
   "execution_count": 3,
   "metadata": {},
   "outputs": [
    {
     "data": {
      "image/png": "[encoded data removed]",
      "text/latex": [
       "$$\\frac{1}{S \\delta_{z}} \\left(S \\operatorname{N_{A}}{\\left (z \\right )} - S \\operatorname{N_{A}}{\\left (\\delta_{z} + z \\right )}\\right)$$"
      ],
      "text/plain": [
       "S⋅N_A(z) - S⋅N_A(δ_z + z)\n",
       "─────────────────────────\n",
       "          S⋅δ_z          "
      ]
     },
     "metadata": {},
     "output_type": "display_data"
    }
   ],
   "source": [
    "#\n",
    "# Bilan sur la colonne de diffusion\n",
    "#\n",
    "eq=(S*N_A(z)-S*N_A(z+delta_z))/(S*delta_z)\n",
    "display(eq)"
   ]
  },
  {
   "cell_type": "code",
   "execution_count": 4,
   "metadata": {},
   "outputs": [
    {
     "data": {
      "image/png": "[encoded data removed]",
      "text/latex": [
       "$$- \\frac{d}{d z} \\operatorname{N_{A}}{\\left (z \\right )}$$"
      ],
      "text/plain": [
       " d         \n",
       "-──(N_A(z))\n",
       " dz        "
      ]
     },
     "metadata": {},
     "output_type": "display_data"
    }
   ],
   "source": [
    "eq=sp.limit(eq,delta_z,0).doit()\n",
    "display(eq)"
   ]
  },
  {
   "cell_type": "code",
   "execution_count": 5,
   "metadata": {},
   "outputs": [
    {
     "data": {
      "image/png": "[encoded data removed]",
      "text/latex": [
       "$$- \\frac{\\partial}{\\partial z}\\left(- \\frac{D_{AB} \\frac{d}{d z} \\operatorname{X_{A}}{\\left (z \\right )}}{- \\operatorname{X_{A}}{\\left (z \\right )} + 1}\\right)$$"
      ],
      "text/plain": [
       "   ⎛      d          ⎞\n",
       "   ⎜-D_AB⋅──(X_A(z)) ⎟\n",
       " ∂ ⎜      dz         ⎟\n",
       "-──⎜─────────────────⎟\n",
       " ∂z⎝   -X_A(z) + 1   ⎠"
      ]
     },
     "metadata": {},
     "output_type": "display_data"
    }
   ],
   "source": [
    "fick=-D_AB/(1-X_A)*sp.diff(X_A,z)\n",
    "eq=eq.subs(N_A(z),fick)\n",
    "display(eq)"
   ]
  },
  {
   "cell_type": "code",
   "execution_count": 6,
   "metadata": {},
   "outputs": [
    {
     "data": {
      "image/png": "[encoded data removed]",
      "text/latex": [
       "$$\\operatorname{X_{A}}{\\left (z \\right )} = C_{1} e^{C_{2} z} + 1$$"
      ],
      "text/plain": [
       "             C₂⋅z    \n",
       "X_A(z) = C₁⋅ℯ     + 1"
      ]
     },
     "metadata": {},
     "output_type": "display_data"
    }
   ],
   "source": [
    "X_A=sp.dsolve(eq,X_A)\n",
    "display(X_A)"
   ]
  },
  {
   "cell_type": "code",
   "execution_count": 7,
   "metadata": {},
   "outputs": [
    {
     "data": {
      "image/png": "[encoded data removed]",
      "text/latex": [
       "$$\\left \\{ C_{1} : \\left(X_{A1} - 1\\right) e^{\\frac{z_{1}}{z_{1} - z_{2}} \\log{\\left (\\frac{X_{A2} - 1}{X_{A1} - 1} \\right )}}, \\quad C_{2} : - \\frac{1}{z_{1} - z_{2}} \\log{\\left (\\frac{X_{A2} - 1}{X_{A1} - 1} \\right )}\\right \\}$$"
      ],
      "text/plain": [
       "⎧                      ⎛X_A2 - 1⎞                     ⎫\n",
       "⎪                z₁⋅log⎜────────⎟                     ⎪\n",
       "⎪                      ⎝X_A1 - 1⎠          ⎛X_A2 - 1⎞ ⎪\n",
       "⎨                ────────────────      -log⎜────────⎟ ⎬\n",
       "⎪                    z₁ - z₂               ⎝X_A1 - 1⎠ ⎪\n",
       "⎪C₁: (X_A1 - 1)⋅ℯ                , C₂: ───────────────⎪\n",
       "⎩                                          z₁ - z₂    ⎭"
      ]
     },
     "metadata": {},
     "output_type": "display_data"
    }
   ],
   "source": [
    "X_A=X_A.rhs\n",
    "# Pose et solution des 2 équations de conditions aux limites pour C1 et C2\n",
    "condition_1=sp.Eq(X_A.subs(z,z_1)-X_A1,0)\n",
    "condition_2=sp.Eq(X_A.subs(z,z_2)-X_A2,0)\n",
    "constantes=sp.solve([condition_1,condition_2],sp.symbols('C1,C2'),dict=True) # C1 et C2\n",
    "constantes=constantes[0]         # ramener la liste contenant le dictionnaire des constantes\n",
    "display(constantes)              # sous forme de dictionnaire"
   ]
  },
  {
   "cell_type": "code",
   "execution_count": 8,
   "metadata": {},
   "outputs": [
    {
     "data": {
      "image/png": "[encoded data removed]",
      "text/latex": [
       "$$\\left(\\left(X_{A1} - 1\\right) e^{\\frac{z_{1}}{z_{1} - z_{2}} \\log{\\left (\\frac{X_{A2} - 1}{X_{A1} - 1} \\right )}} + e^{\\frac{z}{z_{1} - z_{2}} \\log{\\left (\\frac{X_{A2} - 1}{X_{A1} - 1} \\right )}}\\right) e^{- \\frac{z}{z_{1} - z_{2}} \\log{\\left (\\frac{X_{A2} - 1}{X_{A1} - 1} \\right )}}$$"
      ],
      "text/plain": [
       "⎛                  ⎛X_A2 - 1⎞         ⎛X_A2 - 1⎞⎞        ⎛X_A2 - 1⎞ \n",
       "⎜            z₁⋅log⎜────────⎟    z⋅log⎜────────⎟⎟  -z⋅log⎜────────⎟ \n",
       "⎜                  ⎝X_A1 - 1⎠         ⎝X_A1 - 1⎠⎟        ⎝X_A1 - 1⎠ \n",
       "⎜            ────────────────    ───────────────⎟  ─────────────────\n",
       "⎜                z₁ - z₂             z₁ - z₂    ⎟       z₁ - z₂     \n",
       "⎝(X_A1 - 1)⋅ℯ                 + ℯ               ⎠⋅ℯ                 "
      ]
     },
     "metadata": {},
     "output_type": "display_data"
    }
   ],
   "source": [
    "X_A=X_A.subs(constantes)             #\n",
    "display(X_A.simplify())\n",
    "#\n",
    "# La forme de l'équation est lourde, voir plus bas pour formuler de façon plus simple.\n",
    "#"
   ]
  },
  {
   "cell_type": "code",
   "execution_count": 9,
   "metadata": {},
   "outputs": [
    {
     "data": {
      "image/png": "[encoded data removed]",
      "text/latex": [
       "$$- 0.5 e^{2.9389333245106 z} + 1$$"
      ],
      "text/plain": [
       "       2.9389333245106⋅z    \n",
       "- 0.5⋅ℯ                  + 1"
      ]
     },
     "metadata": {},
     "output_type": "display_data"
    },
    {
     "data": {
      "image/png": "[encoded data removed]",
      "text/plain": [
       "<matplotlib.figure.Figure at 0x7ff9eca7ddd8>"
      ]
     },
     "metadata": {},
     "output_type": "display_data"
    },
    {
     "data": {
      "text/plain": [
       "<sympy.plotting.plot.Plot at 0x7ff9ecbbde10>"
      ]
     },
     "execution_count": 9,
     "metadata": {},
     "output_type": "execute_result"
    }
   ],
   "source": [
    "#\n",
    "# Tracons avec des valeurs réalistes\n",
    "#\n",
    "dico={'z_1':0.00,'z_2':0.2,'X_A1':0.5,'X_A2':0.1}\n",
    "X_Aplot=X_A.subs(dico)\n",
    "display(X_Aplot)\n",
    "import matplotlib.pyplot as plt\n",
    "plt.rcParams['figure.figsize']=10,8\n",
    "sp.plot(X_Aplot,(z,0.0,0.2),ylabel='X_A',ylim=[0,1],adaptive=False)"
   ]
  },
  {
   "cell_type": "code",
   "execution_count": 10,
   "metadata": {},
   "outputs": [
    {
     "data": {
      "image/png": "[encoded data removed]",
      "text/latex": [
       "$$\\left(X_{A1} - 1\\right) e^{\\frac{z}{L} \\log{\\left (\\frac{X_{A2} - 1}{X_{A1} - 1} \\right )}} + 1$$"
      ],
      "text/plain": [
       "                 ⎛X_A2 - 1⎞    \n",
       "            z⋅log⎜────────⎟    \n",
       "                 ⎝X_A1 - 1⎠    \n",
       "            ───────────────    \n",
       "                   L           \n",
       "(X_A1 - 1)⋅ℯ                + 1"
      ]
     },
     "metadata": {},
     "output_type": "display_data"
    },
    {
     "data": {
      "image/png": "[encoded data removed]",
      "text/latex": [
       "$$- X_{B1} e^{\\frac{z}{L} \\log{\\left (\\frac{X_{B2}}{X_{B1}} \\right )}} + 1$$"
      ],
      "text/plain": [
       "             ⎛X_B2⎞    \n",
       "        z⋅log⎜────⎟    \n",
       "             ⎝X_B1⎠    \n",
       "        ───────────    \n",
       "             L         \n",
       "- X_B1⋅ℯ            + 1"
      ]
     },
     "metadata": {},
     "output_type": "display_data"
    }
   ],
   "source": [
    "### Ici on peut regarder le profil de concentration en choisissant une géométrie\n",
    "### un peu simplifiée, par exemple z1=0 et z2=L. Regardons si le profil serait plus simple\n",
    "### à lire\n",
    "X_As=X_A.subs(sp.symbols('z_1'),0)\n",
    "X_As=X_As.subs(sp.symbols('z_2'),sp.symbols('L'))\n",
    "display(X_As)\n",
    "### De plus, on pourrait utiliser XB=XA-1\n",
    "X_As=X_As.subs(sp.symbols('X_A1'),1-sp.symbols('X_B1'))\n",
    "X_As=X_As.subs(sp.symbols('X_A2'),1-sp.symbols('X_B2'))\n",
    "display(X_As.simplify())\n",
    "### en effet, on aurait intérêt à utiliser une notation simplifiée ou z2-z1=L et z1=0."
   ]
  }
 ],
 "metadata": {
  "anaconda-cloud": {},
  "kernelspec": {
   "display_name": "Python 3",
   "language": "python",
   "name": "python3"
  },
  "language_info": {
   "codemirror_mode": {
    "name": "ipython",
    "version": 3
   },
   "file_extension": ".py",
   "mimetype": "text/x-python",
   "name": "python",
   "nbconvert_exporter": "python",
   "pygments_lexer": "ipython3",
   "version": "3.6.5"
  }
 },
 "nbformat": 4,
 "nbformat_minor": 1
}
