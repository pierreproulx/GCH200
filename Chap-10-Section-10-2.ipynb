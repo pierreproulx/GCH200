{
 "cells": [
  {
   "cell_type": "markdown",
   "metadata": {
    "deletable": false,
    "name": "Entête, Phénomènes d'échanges 1"
   },
   "source": [
    "|<img style=\"float:left;\" src=\"http://pierreproulx.espaceweb.usherbrooke.ca/images/usherb_transp.gif\"> |Pierre Proulx, ing, professeur|\n",
    "|:---|:---|\n",
    "|Département de génie chimique et de génie biotechnologique |** GCH200-Phénomènes d'échanges I **|"
   ]
  },
  {
   "cell_type": "markdown",
   "metadata": {},
   "source": [
    "### Section10.2, chauffage d'un conducteur électrique"
   ]
  },
  {
   "cell_type": "markdown",
   "metadata": {},
   "source": [
    ">  Le développement fait dans Transport Phenomena sera répété ici en développant les solutions avec le calculateur formel sympy et en traçant la solution avec sympy.plot. Les développements sont très similaires à la section 2.3, Les coordonnées cylindriques sont utilisées, évidemment. Remarquez bien comment la courbure de la géométrie a un effet sur le bilan. <img src='http://pierreproulx.espaceweb.usherbrooke.ca/images/Chap-10-Section-10-2.png'>"
   ]
  },
  {
   "cell_type": "code",
   "execution_count": 1,
   "metadata": {},
   "outputs": [],
   "source": [
    "#\n",
    "# Pierre Proulx\n",
    "#\n",
    "# Préparation de l'affichage et des outils de calcul symbolique\n",
    "#\n",
    "import sympy as sp          \n",
    "from IPython.display import *\n",
    "sp.init_printing(use_latex=True)\n",
    "%matplotlib inline"
   ]
  },
  {
   "cell_type": "code",
   "execution_count": 36,
   "metadata": {},
   "outputs": [],
   "source": [
    "# Paramètres, variables et fonctions\n",
    "#\n",
    "r,delta_r,L,k,S_c,R=sp.symbols('r,delta_r,L,k,S_c,R')\n",
    "C1=sp.symbols('C1')\n",
    "qr=sp.symbols('q_r')\n",
    "T=sp.Function('T')(r)"
   ]
  },
  {
   "cell_type": "code",
   "execution_count": 37,
   "metadata": {},
   "outputs": [
    {
     "data": {
      "image/png": "[encoded data removed]",
      "text/latex": [
       "$$\\frac{1}{2 \\pi L \\delta_{r}} \\left(2 \\pi L S_{c} \\delta_{r} r + 2 \\pi L r \\operatorname{q_{r}}{\\left (r \\right )} - 2 \\pi L \\left(\\delta_{r} + r\\right) \\operatorname{q_{r}}{\\left (\\delta_{r} + r \\right )}\\right)$$"
      ],
      "text/plain": [
       "2⋅π⋅L⋅S_c⋅δᵣ⋅r + 2⋅π⋅L⋅r⋅qᵣ(r) - 2⋅π⋅L⋅(δᵣ + r)⋅qᵣ(δᵣ + r)\n",
       "──────────────────────────────────────────────────────────\n",
       "                         2⋅π⋅L⋅δᵣ                         "
      ]
     },
     "metadata": {},
     "output_type": "display_data"
    }
   ],
   "source": [
    "#\n",
    "# Équation du bilan d'énergie\n",
    "#\n",
    "eq=2*sp.pi*r*L*qr(r)-2*sp.pi*(r+delta_r)*L*qr(r+delta_r)    # conduction\n",
    "eq=eq+2*sp.pi*r*delta_r*L*S_c                                #source\n",
    "#\n",
    "# pose de la limite quand dr tends vers 0\n",
    "#\n",
    "eq=eq/(2*sp.pi*L*delta_r)\n",
    "display(eq)"
   ]
  },
  {
   "cell_type": "code",
   "execution_count": 38,
   "metadata": {},
   "outputs": [
    {
     "data": {
      "image/png": "[encoded data removed]",
      "text/latex": [
       "$$\\lim_{\\delta_{r} \\to 0^+}\\left(\\frac{1}{2 \\pi L \\delta_{r}} \\left(2 \\pi L S_{c} \\delta_{r} r + 2 \\pi L r \\operatorname{q_{r}}{\\left (r \\right )} - 2 \\pi L \\left(\\delta_{r} + r\\right) \\operatorname{q_{r}}{\\left (\\delta_{r} + r \\right )}\\right)\\right)$$"
      ],
      "text/plain": [
       "      ⎛2⋅π⋅L⋅S_c⋅δᵣ⋅r + 2⋅π⋅L⋅r⋅qᵣ(r) - 2⋅π⋅L⋅(δᵣ + r)⋅qᵣ(δᵣ + r)⎞\n",
       " lim  ⎜──────────────────────────────────────────────────────────⎟\n",
       "δᵣ─→0⁺⎝                         2⋅π⋅L⋅δᵣ                         ⎠"
      ]
     },
     "metadata": {},
     "output_type": "display_data"
    },
    {
     "data": {
      "image/png": "[encoded data removed]",
      "text/latex": [
       "$$S_{c} r - r \\left. \\frac{d}{d \\xi_{1}} \\operatorname{q_{r}}{\\left (\\xi_{1} \\right )} \\right|_{\\substack{ \\xi_{1}=r }} - \\operatorname{q_{r}}{\\left (r \\right )}$$"
      ],
      "text/plain": [
       "          ⎛ d         ⎞│            \n",
       "S_c⋅r - r⋅⎜───(qᵣ(ξ₁))⎟│     - qᵣ(r)\n",
       "          ⎝dξ₁        ⎠│ξ₁=r        "
      ]
     },
     "metadata": {},
     "output_type": "display_data"
    },
    {
     "data": {
      "image/png": "[encoded data removed]",
      "text/latex": [
       "$$S_{c} r - r \\frac{d}{d r} \\operatorname{q_{r}}{\\left (r \\right )} - \\operatorname{q_{r}}{\\left (r \\right )}$$"
      ],
      "text/plain": [
       "          d                \n",
       "S_c⋅r - r⋅──(qᵣ(r)) - qᵣ(r)\n",
       "          dr               "
      ]
     },
     "metadata": {},
     "output_type": "display_data"
    }
   ],
   "source": [
    "eq0=sp.Limit(eq,delta_r,0)\n",
    "display(eq0)\n",
    "eq0=sp.limit(eq,delta_r,0)    # encore une fois, remarquez ici la différence entre les fonctions Limit et limit\n",
    "display(eq0)\n",
    "eq1=eq0.doit()\n",
    "display(eq1)"
   ]
  },
  {
   "cell_type": "code",
   "execution_count": 39,
   "metadata": {},
   "outputs": [
    {
     "data": {
      "image/png": "[encoded data removed]",
      "text/latex": [
       "$$\\operatorname{q_{r}}{\\left (r \\right )} = \\frac{C_{1}}{r} + \\frac{S_{c} r}{2}$$"
      ],
      "text/plain": [
       "        C₁   S_c⋅r\n",
       "qᵣ(r) = ── + ─────\n",
       "        r      2  "
      ]
     },
     "metadata": {},
     "output_type": "display_data"
    }
   ],
   "source": [
    "eq2=sp.dsolve(eq1)\n",
    "display(eq2)"
   ]
  },
  {
   "cell_type": "code",
   "execution_count": 40,
   "metadata": {},
   "outputs": [
    {
     "data": {
      "image/png": "[encoded data removed]",
      "text/latex": [
       "$$- k \\frac{d}{d r} T{\\left (r \\right )} = \\frac{C_{1}}{r} + \\frac{S_{c} r}{2}$$"
      ],
      "text/plain": [
       "   d          C₁   S_c⋅r\n",
       "-k⋅──(T(r)) = ── + ─────\n",
       "   dr         r      2  "
      ]
     },
     "metadata": {},
     "output_type": "display_data"
    }
   ],
   "source": [
    "# Loi de Fourier.\n",
    "Fourier=-k*sp.Derivative(T,r)\n",
    "eq2=eq2.subs(qr(r),Fourier)\n",
    "display(eq2)"
   ]
  },
  {
   "cell_type": "code",
   "execution_count": 41,
   "metadata": {},
   "outputs": [
    {
     "data": {
      "text/plain": [
       "'Le profil de température général, avant de poser les conditions aux limites'"
      ]
     },
     "metadata": {},
     "output_type": "display_data"
    },
    {
     "data": {
      "image/png": "[encoded data removed]",
      "text/latex": [
       "$$T{\\left (r \\right )} = \\frac{1}{k} \\left(C_{1} - C_{2} \\log{\\left (r \\right )} - \\frac{S_{c} r^{2}}{4}\\right)$$"
      ],
      "text/plain": [
       "                             2\n",
       "                        S_c⋅r \n",
       "       C₁ - C₂⋅log(r) - ──────\n",
       "                          4   \n",
       "T(r) = ───────────────────────\n",
       "                  k           "
      ]
     },
     "metadata": {},
     "output_type": "display_data"
    }
   ],
   "source": [
    "eq2=sp.dsolve(eq2)\n",
    "display('Le profil de température général, avant de poser les conditions aux limites',eq2)\n",
    "eq2=eq2.rhs # "
   ]
  },
  {
   "cell_type": "code",
   "execution_count": 42,
   "metadata": {},
   "outputs": [
    {
     "data": {
      "text/plain": [
       "'Les conditions aux limites, en r=0 flux nul et en r=R T=T_0'"
      ]
     },
     "metadata": {},
     "output_type": "display_data"
    },
    {
     "data": {
      "image/png": "[encoded data removed]",
      "text/latex": [
       "$$\\frac{\\tilde{\\infty} C_{2}}{k} = 0$$"
      ],
      "text/plain": [
       "zoo⋅C₂    \n",
       "────── = 0\n",
       "  k       "
      ]
     },
     "metadata": {},
     "output_type": "display_data"
    },
    {
     "data": {
      "image/png": "[encoded data removed]",
      "text/latex": [
       "$$\\frac{1}{k} \\left(C_{1} - C_{2} \\log{\\left (R \\right )} - \\frac{R^{2} S_{c}}{4}\\right) = T_{0}$$"
      ],
      "text/plain": [
       "                  2         \n",
       "                 R ⋅S_c     \n",
       "C₁ - C₂⋅log(R) - ──────     \n",
       "                   4        \n",
       "─────────────────────── = T₀\n",
       "           k                "
      ]
     },
     "metadata": {},
     "output_type": "display_data"
    },
    {
     "data": {
      "text/plain": [
       "'Les constantes'"
      ]
     },
     "metadata": {},
     "output_type": "display_data"
    },
    {
     "data": {
      "image/png": "[encoded data removed]",
      "text/latex": [
       "$$\\left \\{ C_{1} : \\frac{R^{2} S_{c}}{4} + T_{0} k, \\quad C_{2} : 0\\right \\}$$"
      ],
      "text/plain": [
       "⎧     2                  ⎫\n",
       "⎪    R ⋅S_c              ⎪\n",
       "⎨C₁: ────── + T₀⋅k, C₂: 0⎬\n",
       "⎪      4                 ⎪\n",
       "⎩                        ⎭"
      ]
     },
     "metadata": {},
     "output_type": "display_data"
    }
   ],
   "source": [
    "T_0=sp.symbols('T_0')\n",
    "condition_1=sp.Eq(eq2.diff(r).subs(r,0),0)     # flux nul en r=0\n",
    "condition_2=sp.Eq(eq2.subs(r,R),T_0)           # température connue en r=R\n",
    "display('Les conditions aux limites, en r=0 flux nul et en r=R T=T_0',condition_1,condition_2)\n",
    "constante=sp.solve([condition_1,condition_2],sp.symbols('C1,C2'),dict=True) \n",
    "\n",
    "display('Les constantes',constante[0])  # les constantes apparaissent dans une liste de 1 élément, dans un dictionnaire\n",
    "constante=constante[0] # "
   ]
  },
  {
   "cell_type": "code",
   "execution_count": 43,
   "metadata": {},
   "outputs": [
    {
     "data": {
      "image/png": "[encoded data removed]",
      "text/latex": [
       "$$\\frac{1}{k} \\left(\\frac{R^{2} S_{c}}{4} - \\frac{S_{c} r^{2}}{4} + T_{0} k\\right)$$"
      ],
      "text/plain": [
       " 2            2       \n",
       "R ⋅S_c   S_c⋅r        \n",
       "────── - ────── + T₀⋅k\n",
       "  4        4          \n",
       "──────────────────────\n",
       "          k           "
      ]
     },
     "metadata": {},
     "output_type": "display_data"
    }
   ],
   "source": [
    "T=eq2.subs(constante)\n",
    "display(T)"
   ]
  },
  {
   "cell_type": "code",
   "execution_count": 44,
   "metadata": {},
   "outputs": [
    {
     "data": {
      "image/png": "[encoded data removed]",
      "text/latex": [
       "$$\\frac{1}{4 k k_{e}} \\left(I^{2} R^{2} - I^{2} r^{2} + 4 T_{0} k k_{e}\\right)$$"
      ],
      "text/plain": [
       " 2  2    2  2            \n",
       "I ⋅R  - I ⋅r  + 4⋅T₀⋅k⋅kₑ\n",
       "─────────────────────────\n",
       "          4⋅k⋅kₑ         "
      ]
     },
     "metadata": {},
     "output_type": "display_data"
    }
   ],
   "source": [
    "I,k_e=sp.symbols('I k_e')\n",
    "source=I**2/k_e\n",
    "T=T.subs(S_c,source)\n",
    "display(T.simplify())"
   ]
  },
  {
   "cell_type": "markdown",
   "metadata": {},
   "source": [
    "> #### Exemple 10.2-2\n",
    ">> La différence est maintenant que la condition à la paroi est la loi de refroidissement de Newton au lieu de température fixée à T_0 , c'est l'équation 10.2-22:\n",
    "\n",
    ">><center>\n",
    "en r=R, $-k\\frac {dT}{dr}=h(T-T_{air})$\n",
    "</center>\n",
    "\n",
    ">> On peut reprendre la solution au moment ou on a posé cette condition"
   ]
  },
  {
   "cell_type": "code",
   "execution_count": 45,
   "metadata": {},
   "outputs": [
    {
     "data": {
      "image/png": "[encoded data removed]",
      "text/latex": [
       "$$\\frac{1}{k} \\left(C_{1} - C_{2} \\log{\\left (r \\right )} - \\frac{S_{c} r^{2}}{4}\\right)$$"
      ],
      "text/plain": [
       "                      2\n",
       "                 S_c⋅r \n",
       "C₁ - C₂⋅log(r) - ──────\n",
       "                   4   \n",
       "───────────────────────\n",
       "           k           "
      ]
     },
     "metadata": {},
     "output_type": "display_data"
    },
    {
     "data": {
      "text/plain": [
       "'Les conditions aux limites, en r=R flux de Fourier=flux de Newton et flux = 0 en r=0'"
      ]
     },
     "metadata": {},
     "output_type": "display_data"
    },
    {
     "data": {
      "image/png": "[encoded data removed]",
      "text/latex": [
       "$$\\frac{C_{2}}{R} + \\frac{R S_{c}}{2} - h \\left(- T_{air} + \\frac{1}{k} \\left(C_{1} - C_{2} \\log{\\left (R \\right )} - \\frac{R^{2} S_{c}}{4}\\right)\\right) = 0$$"
      ],
      "text/plain": [
       "               ⎛                          2    ⎞    \n",
       "               ⎜                         R ⋅S_c⎟    \n",
       "               ⎜        C₁ - C₂⋅log(R) - ──────⎟    \n",
       "C₂   R⋅S_c     ⎜                           4   ⎟    \n",
       "── + ───── - h⋅⎜-Tₐᵢᵣ + ───────────────────────⎟ = 0\n",
       "R      2       ⎝                   k           ⎠    "
      ]
     },
     "metadata": {},
     "output_type": "display_data"
    },
    {
     "data": {
      "image/png": "[encoded data removed]",
      "text/latex": [
       "$$\\frac{\\tilde{\\infty} C_{2}}{k} = 0$$"
      ],
      "text/plain": [
       "zoo⋅C₂    \n",
       "────── = 0\n",
       "  k       "
      ]
     },
     "metadata": {},
     "output_type": "display_data"
    },
    {
     "data": {
      "text/plain": [
       "'les constantes avec une condition de coefficient de transfert en r=R'"
      ]
     },
     "metadata": {},
     "output_type": "display_data"
    },
    {
     "data": {
      "image/png": "[encoded data removed]",
      "text/latex": [
       "$$\\left \\{ C_{1} : \\frac{R^{2} S_{c}}{4} + \\frac{R S_{c} k}{2 h} + T_{air} k, \\quad C_{2} : 0\\right \\}$$"
      ],
      "text/plain": [
       "⎧     2                              ⎫\n",
       "⎪    R ⋅S_c   R⋅S_c⋅k                ⎪\n",
       "⎨C₁: ────── + ─────── + Tₐᵢᵣ⋅k, C₂: 0⎬\n",
       "⎪      4        2⋅h                  ⎪\n",
       "⎩                                    ⎭"
      ]
     },
     "metadata": {},
     "output_type": "display_data"
    },
    {
     "data": {
      "image/png": "[encoded data removed]",
      "text/latex": [
       "$$\\frac{1}{k} \\left(\\frac{R^{2} S_{c}}{4} + \\frac{R S_{c} k}{2 h} - \\frac{S_{c} r^{2}}{4} + T_{air} k\\right)$$"
      ],
      "text/plain": [
       " 2                      2         \n",
       "R ⋅S_c   R⋅S_c⋅k   S_c⋅r          \n",
       "────── + ─────── - ────── + Tₐᵢᵣ⋅k\n",
       "  4        2⋅h       4            \n",
       "──────────────────────────────────\n",
       "                k                 "
      ]
     },
     "metadata": {},
     "output_type": "display_data"
    }
   ],
   "source": [
    "# constante=sp.solve(sp.Eq(eq2.rhs.subs(r,R),T_0),'C1',dict=True)   # T=T_0 à la paroi\n",
    "#\n",
    "# remplacé par\n",
    "#\n",
    "eqx=eq2\n",
    "display(eq2)\n",
    "T_air,h=sp.symbols('T_air h')\n",
    "condition_1=sp.Eq(-k*eqx.diff(r).subs(r,R)-h*(eqx.subs(r,R)-T_air),0)\n",
    "condition_2=sp.Eq(eq2.diff(r).subs(r,0),0)\n",
    "display('Les conditions aux limites, en r=R flux de Fourier=flux de Newton et flux = 0 en r=0',\n",
    "        condition_1,condition_2)\n",
    "constanten=sp.solve([condition_1,condition_2],sp.symbols('C1,C2'),dict=True) \n",
    "constanten=constanten[0]            # sort de la liste\n",
    "display('les constantes avec une condition de coefficient de transfert en r=R',constanten)\n",
    "T=eq2.subs(constanten)\n",
    "display(T)"
   ]
  }
 ],
 "metadata": {
  "anaconda-cloud": {},
  "kernelspec": {
   "display_name": "Python 3",
   "language": "python",
   "name": "python3"
  },
  "language_info": {
   "codemirror_mode": {
    "name": "ipython",
    "version": 3
   },
   "file_extension": ".py",
   "mimetype": "text/x-python",
   "name": "python",
   "nbconvert_exporter": "python",
   "pygments_lexer": "ipython3",
   "version": "3.6.5"
  }
 },
 "nbformat": 4,
 "nbformat_minor": 1
}
