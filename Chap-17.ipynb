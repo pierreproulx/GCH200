{
 "cells": [
  {
   "cell_type": "markdown",
   "metadata": {
    "deletable": false,
    "name": "Entête, Phénomènes d'échanges 1"
   },
   "source": [
    "|<img style=\"float:left;\" src=\"http://pierreproulx.espaceweb.usherbrooke.ca/images/usherb_transp.gif\"> |Pierre Proulx, ing, professeur|\n",
    "|:---|:---|\n",
    "|Département de génie chimique et de génie biotechnologique |** GCH200-Phénomènes d'échanges I **|\n"
   ]
  },
  {
   "cell_type": "markdown",
   "metadata": {},
   "source": [
    "# Chapitre 17"
   ]
  },
  {
   "cell_type": "code",
   "execution_count": 1,
   "metadata": {},
   "outputs": [
    {
     "data": {
      "text/plain": [
       "0.1517419935491598"
      ]
     },
     "execution_count": 1,
     "metadata": {},
     "output_type": "execute_result"
    }
   ],
   "source": [
    "from CoolProp.CoolProp import PropsSI\n",
    "import thermo as th\n",
    "# fonction Dab équation 17.2-1, utile aussi pour extrapoler\n",
    "def Dab(A,B,p,T,MA,MB,polaire): #  cm2/sec\n",
    "    a=[2.745e-4,3.64e-4]\n",
    "    b=[1.823,2.334]\n",
    "    TcA=PropsSI('Tcrit',A)\n",
    "    PcA=PropsSI('Pcrit',A)/101325  # en atmosphères \n",
    "    TcB=PropsSI('Tcrit',B)\n",
    "    PcB=PropsSI('Pcrit',B)/101325\n",
    "    f1=(PcA*PcB)**(1/3)\n",
    "    f2=(TcA*TcB)**(5/12)\n",
    "    f3=(1/MA+1/MB)**(1/2)\n",
    "    f=f1*f2*f3\n",
    "    if polaire:\n",
    "        return f*a[1]*(T/(TcA*TcB)**0.5)**b[1]/p   # polaire\n",
    "    else:\n",
    "        return f*a[0]*(T/(TcA*TcB)**0.5)**b[0]/p   # non-polaire\n",
    "# fin de la fonction Dab\n",
    "Dab('CO','CO2',1,296.1,28.01,44.01,polaire=False) # exemple 17.2-1, en cm2/sec"
   ]
  },
  {
   "cell_type": "markdown",
   "metadata": {},
   "source": [
    "### Voyons si on peut utiliser la même équation pour résoudre l'exemple 17.2-2"
   ]
  },
  {
   "cell_type": "code",
   "execution_count": 2,
   "metadata": {},
   "outputs": [
    {
     "name": "stdout",
     "output_type": "stream",
     "text": [
      "5.609988881945637e-06  Le résultat est près de la valeur expérimentale de 5.89e-6\n"
     ]
    }
   ],
   "source": [
    "P=171.7\n",
    "T=373\n",
    "R=82.0578\n",
    "c=P/(R*T)\n",
    "cdab=c*Dab('CO2','CO2',P,T,44.01,46.01,polaire=False) # exemple 17.2-2 isotope C14 pour le CO2\n",
    "print(cdab,' Le résultat est près de la valeur expérimentale de 5.89e-6')"
   ]
  },
  {
   "cell_type": "markdown",
   "metadata": {},
   "source": [
    "### Voyons si on peut utiliser la même équation pour résoudre l'exemple 17.2-3"
   ]
  },
  {
   "cell_type": "code",
   "execution_count": 3,
   "metadata": {},
   "outputs": [
    {
     "name": "stdout",
     "output_type": "stream",
     "text": [
      "6.663373783520741e-06  résultat pas mal encore, environ 10% en erreur\n"
     ]
    }
   ],
   "source": [
    "R=82.0578\n",
    "P=136\n",
    "T=313\n",
    "c=P/(R*T)\n",
    "cdab=c*Dab('CH4','ethane',P,T,16.04,30.07,polaire=False) # exemple 17.2-3\n",
    "print(cdab,' résultat pas mal encore, environ 10% en erreur')"
   ]
  },
  {
   "cell_type": "markdown",
   "metadata": {},
   "source": [
    "### En conclusion on voit que l'équation 17.2-1 semble convenir à l'évaluation du coefficient de diffusion binaire à moins de 10%, basé sur ces trois exemples de la section 17.2. \n",
    "\n",
    "### L'exemple 17.3-1 montre bien que le résultat calculé avec 17-2.1 est tout-à-fait satisfaisant, on n'aura donc pas à utiliser les équations de la section 17.3\n",
    "\n",
    "# ***\n",
    "\n",
    "## Section 17.4 diffusion en phase liquide\n",
    "\n",
    "> ### L'équation empirique de Wilke et Chang est encore la méthode proposée pour les petites et moyennes molécules.\n",
    ">> #### ####  $D_{AB}=7.4 \\times 10^{-8} T \\frac {\\sqrt{\\phi_B M_B}} {\\mu \\tilde {V_A}^{0.6}}$ (équation 17.4-8)\n",
    "\n",
    "le terme $V_A$ est au point d'ebullition de la substance diffusant dans le solvant"
   ]
  },
  {
   "cell_type": "code",
   "execution_count": 4,
   "metadata": {},
   "outputs": [
    {
     "data": {
      "text/plain": [
       "(219.25241425268013, 1.0644668694655854e-05)"
      ]
     },
     "execution_count": 4,
     "metadata": {},
     "output_type": "execute_result"
    }
   ],
   "source": [
    "import thermo as th\n",
    "T=273.15+15\n",
    "P=101325\n",
    "phib=1\n",
    "benzene=th.Chemical('benzene',T,P)\n",
    "TNT=th.Chemical('118-96-7',T,P)\n",
    "TNT.calculate(TNT.Tb) # on veut calculer la densité au point d'ébullition\n",
    "VA=TNT.MW/(TNT.rhol/1000) # en g-moles!!!   ceci devrait être Ok\n",
    "#VA=140                      # cette valeur de 140 semble etre la densité à 25 degrés C\n",
    "mu=benzene.mul*1e3          # en centipoises   \n",
    "MB=benzene.MW\n",
    "Da= lambda T: 7.4e-8*T*(phib*MB)**0.5/(mu*VA**0.6)  # attention Va est au point d'ebullition\n",
    "VA,Da(T)"
   ]
  },
  {
   "cell_type": "code",
   "execution_count": 5,
   "metadata": {},
   "outputs": [
    {
     "name": "stdout",
     "output_type": "stream",
     "text": [
      "Coefficient de diffusion par Wilke et Chang pour oxygene-eau  2.132707592624732e-05 cm2/sec\n"
     ]
    }
   ],
   "source": [
    "#\n",
    "# Diffusion de l'oxygène dans l'eau, la valeur mesurée est 2.1e-5 cm2/sec\n",
    "#\n",
    "T=298\n",
    "P=101325\n",
    "eau=th.Chemical('water',T,P)\n",
    "oxygene=th.Chemical('O2',T,P)\n",
    "phib=2.26\n",
    "#\n",
    "oxygene.calculate(oxygene.Tb)\n",
    "VA=oxygene.MW/(oxygene.rhol/1000)     # ramener aux unités g-moles !!!\n",
    "#VA=25.6            # trouvée dans la littérature\n",
    "mu=eau.mul*1e3\n",
    "MB=eau.MW\n",
    "print('Coefficient de diffusion par Wilke et Chang pour oxygene-eau ',Da(T), 'cm2/sec')"
   ]
  },
  {
   "cell_type": "code",
   "execution_count": 6,
   "metadata": {},
   "outputs": [
    {
     "name": "stdout",
     "output_type": "stream",
     "text": [
      "Wilke et Chang pour acide acetique-eau  9.102665934383858e-06 cm2/sec\n",
      "0.9393154185433927\n",
      "Wilke et Chang pour acide methanol-eau a 15  9.8257478185632e-06 cm2/sec\n",
      "Wilke et Chang pour acide methanol-eau a 100  5.153435554932639e-05 cm2/sec\n"
     ]
    }
   ],
   "source": [
    "#\n",
    "# exercice 17A10 a\n",
    "#\n",
    "T=273+12.5\n",
    "P=101325\n",
    "eau=th.Chemical('water',T,P)\n",
    "ac=th.Chemical('acetic acid',T,P)\n",
    "phib=2.26\n",
    "ac.calculate(ac.Tb) # recalcule les propriétés à Tb pour trouver la densité voulue\n",
    "VA=ac.MW/(ac.rhol/1000) \n",
    "mu=eau.mul*1e3\n",
    "MB=eau.MW\n",
    "print('Wilke et Chang pour acide acetique-eau ',Da(T), 'cm2/sec')\n",
    "print(ac.rhol/1000)\n",
    "#\n",
    "#b\n",
    "#\n",
    "T=273+15\n",
    "P=101325\n",
    "eau.calculate(T)\n",
    "me=th.Chemical('methanol',T,P)\n",
    "me.calculate(me.Tb)\n",
    "VA-me.MW/(me.rhol/1000)\n",
    "mu=eau.mul*1e3\n",
    "print('Wilke et Chang pour acide methanol-eau a 15 ',Da(T), 'cm2/sec')\n",
    "T=273+100\n",
    "eau.calculate(T)\n",
    "mu=eau.mul*1e3\n",
    "print('Wilke et Chang pour acide methanol-eau a 100 ',Da(T), 'cm2/sec')"
   ]
  },
  {
   "cell_type": "markdown",
   "metadata": {},
   "source": [
    "## Section 17.5: Diffusion de particules colloidales dans un liquide:\n",
    "> #### Équation de Stokes-Einstein: $D_{A}=\\frac {kT}{f}$ avec $f={6 \\pi \\mu R_A}$(équation 17.5-4)\n",
    "> #### si la particule n'est pas une sphère, ce qui arrive souvent... on utilise le concept de sphère équivalente en calculant le rayon de la sphère ayant le même volume que la particule colloidale. \n",
    ">> $\n",
    "\\begin{array}{cc}\n",
    "\\mathrm{Forme\\mathbf{}} & \\mathrm{Coefficient\\,\\, de\\,\\, friction\\mathbf{{\\displaystyle }}}\\\\\n",
    "\\mathrm{Sphere} & f=6\\pi\\mu R\\\\\n",
    "\\mathrm{Ellipsoide\\, prolate\\, p=a/b>1} & f=\\frac{6\\pi\\mu Lb(p^{2}-1)^{1/2}}{p^{1/3}ln(p+(p^{2}-1)^{1/2})}\\\\\n",
    "\\mathrm{Ellipsoide\\, oblate\\, p=a/b<1} & f=\\frac{6\\pi\\mu Lb(1-p^{2})^{1/2}}{p^{1/3}tan^{-1}(p+(1-p^{2})^{1/2}p^{-1})}\\\\\n",
    "\\mathrm{Disque\\, plat\\, mince\\, de\\, rayon\\, a} & f=16\\mu a\\\\\n",
    "\\mathrm{Cylindre\\, de\\, rayon\\, a\\, et\\, longueur\\, L} &  f=\\frac{4\\pi L}{ln(L/a)+0.193}\n",
    "\\end{array}\n",
    "$"
   ]
  },
  {
   "cell_type": "code",
   "execution_count": 7,
   "metadata": {},
   "outputs": [
    {
     "name": "stdout",
     "output_type": "stream",
     "text": [
      "Lysozyme  1.3476530359594026e-10  m2/sec, valeur mesurée 1.13 e-10\n",
      "Hémoglobine  4.559081547181809e-11  m2/sec, valeur mesurée 5.2 e-11\n"
     ]
    }
   ],
   "source": [
    "#\n",
    "# Équation de Stokes-Einstein\n",
    "#\n",
    "import math\n",
    "Db= lambda T: (k*T)/(6*math.pi*muB*RA)   # utilisons des valeurs en SI\n",
    "k=1.38e-23\n",
    "RA=1.59e-9             # rayon équivalent pour un lysozyme ()\n",
    "T=273.15+20\n",
    "eau.calculate(T,101325)\n",
    "muB=eau.mul\n",
    "print('Lysozyme ',Db(T),' m2/sec, valeur mesurée 1.13 e-10')\n",
    "RA=4.7e-9              # hemoglobine\n",
    "print('Hémoglobine ',Db(T),' m2/sec, valeur mesurée 5.2 e-11')\n",
    "# voir Adams and Fatt, Respiration  Physiology (1967) 2, 293-301; "
   ]
  },
  {
   "cell_type": "markdown",
   "metadata": {},
   "source": [
    "## Sections 17.7 et 17.8"
   ]
  },
  {
   "cell_type": "code",
   "execution_count": 8,
   "metadata": {},
   "outputs": [
    {
     "data": {
      "image/png": "[encoded data removed]",
      "text/latex": [
       "$$\\frac{M_{b} \\omega_{a}}{M_{a} \\omega_{b} + M_{b} \\omega_{a}}$$"
      ],
      "text/plain": [
       "     M_b⋅ωₐ    \n",
       "───────────────\n",
       "Mₐ⋅ω_b + M_b⋅ωₐ"
      ]
     },
     "metadata": {},
     "output_type": "display_data"
    },
    {
     "data": {
      "image/png": "[encoded data removed]",
      "text/latex": [
       "$$\\frac{1}{M_{a} \\left(\\frac{\\omega_{b}}{M_{b}} + \\frac{\\omega_{a}}{M_{a}}\\right)} - \\frac{\\omega_{a}}{M_{a}^{2} \\left(\\frac{\\omega_{b}}{M_{b}} + \\frac{\\omega_{a}}{M_{a}}\\right)^{2}} = \\frac{M_{a} M_{b} \\omega_{b}}{\\left(M_{a} \\omega_{b} + M_{b} \\omega_{a}\\right)^{2}}$$"
      ],
      "text/plain": [
       "      1                ωₐ             Mₐ⋅M_b⋅ω_b    \n",
       "───────────── - ─────────────── = ──────────────────\n",
       "   ⎛ω_b   ωₐ⎞                 2                    2\n",
       "Mₐ⋅⎜─── + ──⎟     2 ⎛ω_b   ωₐ⎞    (Mₐ⋅ω_b + M_b⋅ωₐ) \n",
       "   ⎝M_b   Mₐ⎠   Mₐ ⋅⎜─── + ──⎟                      \n",
       "                    ⎝M_b   Mₐ⎠                      "
      ]
     },
     "metadata": {},
     "output_type": "display_data"
    }
   ],
   "source": [
    "from IPython.display import *\n",
    "import sympy as sp\n",
    "sp.init_printing(use_latex=True)\n",
    "x_a,x_b,omega_a,omega_b,M_a,M_b=sp.symbols('x_a x_b omega_a omega_b M_a M_b')\n",
    "x_a=omega_a/M_a/(omega_a/M_a+omega_b/M_b)\n",
    "display(x_a.simplify())\n",
    "eq=sp.Eq(sp.diff(x_a,omega_a),sp.diff(x_a,omega_a).simplify())\n",
    "display(eq)"
   ]
  },
  {
   "cell_type": "markdown",
   "metadata": {
    "collapsed": true
   },
   "source": [
    "<img src='http://pierreproulx.espaceweb.usherbrooke.ca/images/figure.png'>"
   ]
  }
 ],
 "metadata": {
  "kernelspec": {
   "display_name": "Python 3",
   "language": "python",
   "name": "python3"
  },
  "language_info": {
   "codemirror_mode": {
    "name": "ipython",
    "version": 3
   },
   "file_extension": ".py",
   "mimetype": "text/x-python",
   "name": "python",
   "nbconvert_exporter": "python",
   "pygments_lexer": "ipython3",
   "version": "3.6.4"
  }
 },
 "nbformat": 4,
 "nbformat_minor": 2
}
