{
 "cells": [
  {
   "cell_type": "markdown",
   "metadata": {
    "deletable": false,
    "name": "Entête, Phénomènes d'échanges 1"
   },
   "source": [
    "|<img style=\"float:left;\" src=\"http://pierreproulx.espaceweb.usherbrooke.ca/images/usherb_transp.gif\"> |Pierre Proulx, ing, professeur|\n",
    "|:---|:---|\n",
    "|Département de génie chimique et de génie biotechnologique |** GCH200-Phénomènes d'échanges I **|\n"
   ]
  },
  {
   "cell_type": "markdown",
   "metadata": {},
   "source": [
    "### Section 18-3, diffusion binaire avec réaction hétérogène sur la surface\n",
    "\n",
    "<img src='http://pierreproulx.espaceweb.usherbrooke.ca/images/Chap-18-Section-18-3.png'>\n",
    "\n",
    ">> Ce développement est très similaire à la section précédente, mais avec deux différences importantes:\n",
    ">>> * La concentration en $x=\\delta$ est nulle car il y a une réaction catalytique rapite\n",
    "* La substance A ne diffuse pas dans un milieu stagnant $N_B \\ne 0$\n",
    "\n",
    ">> On se base donc sur le développement fait en 18.2, mais seulement en partie\n"
   ]
  },
  {
   "cell_type": "code",
   "execution_count": 1,
   "metadata": {
    "collapsed": true
   },
   "outputs": [],
   "source": [
    "#\n",
    "# Pierre Proulx\n",
    "#\n",
    "#\n",
    "# Préparation de l'affichage et des outils de calcul symbolique\n",
    "#\n",
    "import sympy as sp\n",
    "from IPython.display import *\n",
    "sp.init_printing(use_latex=True)\n",
    "%matplotlib inline"
   ]
  },
  {
   "cell_type": "code",
   "execution_count": 2,
   "metadata": {
    "collapsed": true
   },
   "outputs": [],
   "source": [
    "# Paramètres, variables et fonctions\n",
    "\n",
    "z,D_AB,C,S,delta_z,C1,C2,X0,delta=sp.symbols('z,D_AB,C,S,delta_z,C1,C2,X_0,delta')                                                            \n",
    "N_A=sp.symbols('N_A')\n",
    "N_B=sp.symbols('N_B')\n",
    "X_A=sp.Function('X_A')(z)     \n",
    "X_B=sp.Function('X_B')(z)     "
   ]
  },
  {
   "cell_type": "code",
   "execution_count": 3,
   "metadata": {},
   "outputs": [
    {
     "data": {
      "image/png": "[encoded data removed]",
      "text/latex": [
       "$$\\frac{1}{S \\delta_{z}} \\left(S \\operatorname{N_{A}}{\\left (z \\right )} - S \\operatorname{N_{A}}{\\left (\\delta_{z} + z \\right )}\\right)$$"
      ],
      "text/plain": [
       "S⋅N_A(z) - S⋅N_A(δ_z + z)\n",
       "─────────────────────────\n",
       "          S⋅δ_z          "
      ]
     },
     "metadata": {},
     "output_type": "display_data"
    }
   ],
   "source": [
    "#\n",
    "# Bilan sur le film\n",
    "#\n",
    "eq=(S*N_A(z)-S*N_A(z+delta_z))/(S*delta_z)\n",
    "display(eq)"
   ]
  },
  {
   "cell_type": "code",
   "execution_count": 4,
   "metadata": {},
   "outputs": [
    {
     "data": {
      "image/png": "[encoded data removed]",
      "text/latex": [
       "$$- \\frac{d}{d z} \\operatorname{N_{A}}{\\left (z \\right )}$$"
      ],
      "text/plain": [
       " d         \n",
       "-──(N_A(z))\n",
       " dz        "
      ]
     },
     "metadata": {},
     "output_type": "display_data"
    }
   ],
   "source": [
    "eq=sp.limit(eq,delta_z,0).doit()\n",
    "display(eq)"
   ]
  },
  {
   "cell_type": "code",
   "execution_count": 5,
   "metadata": {},
   "outputs": [
    {
     "data": {
      "image/png": "[encoded data removed]",
      "text/latex": [
       "$$- \\frac{\\partial}{\\partial z}\\left(\\frac{C D_{AB} \\frac{d}{d z} \\operatorname{X_{A}}{\\left (z \\right )}}{- 0.5 \\operatorname{X_{A}}{\\left (z \\right )} + 1}\\right)$$"
      ],
      "text/plain": [
       "   ⎛       d         ⎞\n",
       "   ⎜C⋅D_AB⋅──(X_A(z))⎟\n",
       " ∂ ⎜       dz        ⎟\n",
       "-──⎜─────────────────⎟\n",
       " ∂z⎝ -0.5⋅X_A(z) + 1 ⎠"
      ]
     },
     "metadata": {},
     "output_type": "display_data"
    }
   ],
   "source": [
    "fick=C*D_AB/(1-1/2*X_A)*sp.diff(X_A,z)   # équation 18.0-1 avec NB=-1/2NA\n",
    "eq=eq.subs(N_A(z),fick)\n",
    "display(eq)"
   ]
  },
  {
   "cell_type": "code",
   "execution_count": 6,
   "metadata": {},
   "outputs": [
    {
     "data": {
      "image/png": "[encoded data removed]",
      "text/latex": [
       "$$\\operatorname{X_{A}}{\\left (z \\right )} = C_{1} e^{- 0.25 C_{2} z} + 2.0$$"
      ],
      "text/plain": [
       "             -0.25⋅C₂⋅z      \n",
       "X_A(z) = C₁⋅ℯ           + 2.0"
      ]
     },
     "metadata": {},
     "output_type": "display_data"
    }
   ],
   "source": [
    "X_A=sp.dsolve(eq,X_A)\n",
    "display(X_A)"
   ]
  },
  {
   "cell_type": "code",
   "execution_count": 7,
   "metadata": {},
   "outputs": [
    {
     "data": {
      "image/png": "[encoded data removed]",
      "text/latex": [
       "$$\\left \\{ C_{1} : X_{0} - 2.0, \\quad C_{2} : \\frac{4.0}{\\delta} \\log{\\left (- 0.5 X_{0} + 1.0 \\right )}\\right \\}$$"
      ],
      "text/plain": [
       "⎧                  4.0⋅log(-0.5⋅X₀ + 1.0)⎫\n",
       "⎨C₁: X₀ - 2.0, C₂: ──────────────────────⎬\n",
       "⎩                            δ           ⎭"
      ]
     },
     "metadata": {},
     "output_type": "display_data"
    }
   ],
   "source": [
    "X_A=X_A.rhs\n",
    "#\n",
    "# Pose et solution des 2 équations de conditions aux limites pour C1 et C2\n",
    "condition_1=sp.Eq(X_A.subs(z,0)-X0,0)\n",
    "condition_2=sp.Eq(X_A.subs(z,delta),0) \n",
    "constantes=sp.solve([condition_1,condition_2],sp.symbols('C1,C2'),dict=True) #  C1 et C2\n",
    "constantes=constantes[0]          # voir section 18.2\n",
    "display(constantes)"
   ]
  },
  {
   "cell_type": "code",
   "execution_count": 8,
   "metadata": {},
   "outputs": [
    {
     "data": {
      "image/png": "[encoded data removed]",
      "text/latex": [
       "$$\\left(X_{0} - 2.0\\right) e^{- \\frac{1.0 z}{\\delta} \\log{\\left (- 0.5 X_{0} + 1.0 \\right )}} + 2.0$$"
      ],
      "text/plain": [
       "            -1.0⋅z⋅log(-0.5⋅X₀ + 1.0)       \n",
       "            ──────────────────────────      \n",
       "                        δ                   \n",
       "(X₀ - 2.0)⋅ℯ                           + 2.0"
      ]
     },
     "metadata": {},
     "output_type": "display_data"
    }
   ],
   "source": [
    "X_A=X_A.subs(constantes)             # qui avait été crée par solve. ?????\n",
    "display(X_A.simplify())"
   ]
  },
  {
   "cell_type": "code",
   "execution_count": 9,
   "metadata": {},
   "outputs": [
    {
     "data": {
      "image/png": "[encoded data removed]",
      "text/plain": [
       "<matplotlib.figure.Figure at 0x7f0c5d030630>"
      ]
     },
     "metadata": {},
     "output_type": "display_data"
    }
   ],
   "source": [
    "#\n",
    "# Tracons\n",
    "#\n",
    "dico={'delta':0.2,'X_0':1}\n",
    "X_Aplot=X_A.subs(dico)\n",
    "import matplotlib.pyplot as plt\n",
    "plt.rcParams['figure.figsize']=10,8\n",
    "sp.plot(X_Aplot,(z,0.0,delta.subs(dico)),ylabel='X_A',title=X_Aplot);"
   ]
  },
  {
   "cell_type": "code",
   "execution_count": 10,
   "metadata": {},
   "outputs": [
    {
     "name": "stdout",
     "output_type": "stream",
     "text": [
      " Ok\n"
     ]
    }
   ],
   "source": [
    "# L'expression de X_A est un peu différente de celle de Transport Phenomena, problème?\n",
    "#\n",
    "# Vérifions si notre expression ci-haut est équivalente à 18.3-8, en x/delta=0.5\n",
    "#\n",
    "if (1-1/2*X0.subs(dico))**(1-0.5)==(1-1/2*X_Aplot.subs(z,0.5*delta.subs(dico))):\n",
    "    print(' Ok')\n",
    "else:\n",
    "    Print(' Oups')"
   ]
  }
 ],
 "metadata": {
  "anaconda-cloud": {},
  "kernelspec": {
   "display_name": "Python 3",
   "language": "python",
   "name": "python3"
  },
  "language_info": {
   "codemirror_mode": {
    "name": "ipython",
    "version": 3
   },
   "file_extension": ".py",
   "mimetype": "text/x-python",
   "name": "python",
   "nbconvert_exporter": "python",
   "pygments_lexer": "ipython3",
   "version": "3.6.4"
  }
 },
 "nbformat": 4,
 "nbformat_minor": 1
}
