{
 "cells": [
  {
   "cell_type": "markdown",
   "metadata": {
    "deletable": false,
    "name": "Entête, Phénomènes d'échanges 1"
   },
   "source": [
    "|<img style=\"float:left;\" src=\"http://pierreproulx.espaceweb.usherbrooke.ca/images/usherb_transp.gif\" > |Pierre Proulx, ing, professeur|\n",
    "|:---|:---|\n",
    "|Département de génie chimique et de génie biotechnologique |** GCH200-Phénomènes d'échanges I **|"
   ]
  },
  {
   "cell_type": "markdown",
   "metadata": {
    "collapsed": true
   },
   "source": [
    "### Section 10.7, Conduction de la chaleur dans une ailette\n",
    "<img src='http://pierreproulx.espaceweb.usherbrooke.ca/images/Chap-10-Section-10-7.png'>\n",
    "\n"
   ]
  },
  {
   "cell_type": "code",
   "execution_count": 1,
   "metadata": {
    "collapsed": true
   },
   "outputs": [],
   "source": [
    "#\n",
    "# Pierre Proulx\n",
    "#\n",
    "#\n",
    "# Préparation de l'affichage et des outils de calcul symbolique\n",
    "#\n",
    "import sympy as sp\n",
    "from IPython.display import *\n",
    "sp.init_printing(use_latex=True)\n",
    "%matplotlib inline"
   ]
  },
  {
   "cell_type": "code",
   "execution_count": 2,
   "metadata": {
    "collapsed": true
   },
   "outputs": [],
   "source": [
    "# Paramètres, variables et fonctions\n",
    "\n",
    "W,B,h,k,T,T_A,delta_z,z,T_0,L=sp.symbols('W,B,h,k,T,T_A,delta_z,z,T_0,L')                                                            \n",
    "q=sp.symbols('q')\n",
    "T=sp.Function('T')(z)     "
   ]
  },
  {
   "cell_type": "code",
   "execution_count": 3,
   "metadata": {},
   "outputs": [
    {
     "data": {
      "text/plain": [
       "'Bilan différentiel'"
      ]
     },
     "metadata": {},
     "output_type": "display_data"
    },
    {
     "data": {
      "image/png": "[encoded data removed]",
      "text/latex": [
       "$$\\frac{1}{B \\delta_{z}} \\left(B q{\\left (z \\right )} - B q{\\left (\\delta_{z} + z \\right )} + \\delta_{z} h \\left(T_{A} - T{\\left (z \\right )}\\right)\\right)$$"
      ],
      "text/plain": [
       "B⋅q(z) - B⋅q(δ_z + z) + δ_z⋅h⋅(T_A - T(z))\n",
       "──────────────────────────────────────────\n",
       "                  B⋅δ_z                   "
      ]
     },
     "metadata": {},
     "output_type": "display_data"
    }
   ],
   "source": [
    "#\n",
    "# Bilan dans l'ailette\n",
    "#\n",
    "eq=(2*B*W*q(z)-2*B*W*q(z+delta_z))-2*W*delta_z*h*(T-T_A)\n",
    "eq=(eq/(2*B*W*delta_z)).simplify()\n",
    "display('Bilan différentiel',eq)"
   ]
  },
  {
   "cell_type": "code",
   "execution_count": 4,
   "metadata": {},
   "outputs": [
    {
     "data": {
      "text/plain": [
       "'Équation du bilan différentiel après limite'"
      ]
     },
     "metadata": {},
     "output_type": "display_data"
    },
    {
     "data": {
      "image/png": "[encoded data removed]",
      "text/latex": [
       "$$- \\frac{1}{B} \\left(B \\frac{d}{d z} q{\\left (z \\right )} - T_{A} h + h T{\\left (z \\right )}\\right)$$"
      ],
      "text/plain": [
       " ⎛  d                        ⎞ \n",
       "-⎜B⋅──(q(z)) - T_A⋅h + h⋅T(z)⎟ \n",
       " ⎝  dz                       ⎠ \n",
       "───────────────────────────────\n",
       "               B               "
      ]
     },
     "metadata": {},
     "output_type": "display_data"
    }
   ],
   "source": [
    "# limite quand dz > 0\n",
    "eq=sp.limit(eq,delta_z,0).doit()\n",
    "display('Équation du bilan différentiel après limite',eq)"
   ]
  },
  {
   "cell_type": "code",
   "execution_count": 5,
   "metadata": {},
   "outputs": [
    {
     "data": {
      "text/plain": [
       "'Après substitution de la loi de Fourier pour avoir une équation en fonction de T'"
      ]
     },
     "metadata": {},
     "output_type": "display_data"
    },
    {
     "data": {
      "image/png": "[encoded data removed]",
      "text/latex": [
       "$$- \\frac{1}{B} \\left(B \\frac{\\partial}{\\partial z}\\left(- k \\frac{d}{d z} T{\\left (z \\right )}\\right) - T_{A} h + h T{\\left (z \\right )}\\right)$$"
      ],
      "text/plain": [
       " ⎛  ∂ ⎛   d       ⎞                 ⎞ \n",
       "-⎜B⋅──⎜-k⋅──(T(z))⎟ - T_A⋅h + h⋅T(z)⎟ \n",
       " ⎝  ∂z⎝   dz      ⎠                 ⎠ \n",
       "──────────────────────────────────────\n",
       "                  B                   "
      ]
     },
     "metadata": {},
     "output_type": "display_data"
    }
   ],
   "source": [
    "fourier=-k*sp.diff(T,z)\n",
    "eq=eq.subs(q(z),fourier)\n",
    "display('Après substitution de la loi de Fourier pour avoir une équation en fonction de T',eq)"
   ]
  },
  {
   "cell_type": "code",
   "execution_count": 6,
   "metadata": {},
   "outputs": [
    {
     "data": {
      "text/plain": [
       "'Solution générale incluant les constantes inconnues'"
      ]
     },
     "metadata": {},
     "output_type": "display_data"
    },
    {
     "data": {
      "image/png": "[encoded data removed]",
      "text/latex": [
       "$$T{\\left (z \\right )} = C_{1} e^{- z \\sqrt{\\frac{h}{B k}}} + C_{2} e^{z \\sqrt{\\frac{h}{B k}}} + T_{A}$$"
      ],
      "text/plain": [
       "                  _____             _____      \n",
       "                 ╱  h              ╱  h        \n",
       "           -z⋅  ╱  ───        z⋅  ╱  ───       \n",
       "              ╲╱   B⋅k          ╲╱   B⋅k       \n",
       "T(z) = C₁⋅ℯ             + C₂⋅ℯ            + T_A"
      ]
     },
     "metadata": {},
     "output_type": "display_data"
    }
   ],
   "source": [
    "T=sp.dsolve(eq,T)\n",
    "display('Solution générale incluant les constantes inconnues',T)"
   ]
  },
  {
   "cell_type": "code",
   "execution_count": 7,
   "metadata": {},
   "outputs": [
    {
     "data": {
      "image/png": "[encoded data removed]",
      "text/latex": [
       "$$\\left \\{ C_{1} : \\frac{\\left(T_{0} - T_{A}\\right) e^{2 L \\sqrt{\\frac{h}{B k}}}}{e^{2 L \\sqrt{\\frac{h}{B k}}} + 1}, \\quad C_{2} : \\frac{T_{0} - T_{A}}{e^{2 L \\sqrt{\\frac{h}{B k}}} + 1}\\right \\}$$"
      ],
      "text/plain": [
       "⎧                        _____                        ⎫\n",
       "⎪                       ╱  h                          ⎪\n",
       "⎪                2⋅L⋅  ╱  ───                         ⎪\n",
       "⎪                    ╲╱   B⋅k                         ⎪\n",
       "⎪    (T₀ - T_A)⋅ℯ                        T₀ - T_A     ⎪\n",
       "⎨C₁: ─────────────────────────, C₂: ──────────────────⎬\n",
       "⎪                 _____                      _____    ⎪\n",
       "⎪                ╱  h                       ╱  h      ⎪\n",
       "⎪         2⋅L⋅  ╱  ───               2⋅L⋅  ╱  ───     ⎪\n",
       "⎪             ╲╱   B⋅k                   ╲╱   B⋅k     ⎪\n",
       "⎩        ℯ              + 1         ℯ              + 1⎭"
      ]
     },
     "metadata": {},
     "output_type": "display_data"
    }
   ],
   "source": [
    "# Pose et solution des 2 équations de conditions aux limites pour C1 et C2\n",
    "condition_1=sp.Eq(T.rhs.diff(z).subs(z,L    ),0)\n",
    "condition_2=sp.Eq(T.rhs.subs(z,0)-T_0,0)\n",
    "constantes=sp.solve([condition_1,condition_2],sp.symbols('C1,C2'))    # pour trouver C1 et C2\n",
    "display(constantes)"
   ]
  },
  {
   "cell_type": "code",
   "execution_count": 8,
   "metadata": {},
   "outputs": [
    {
     "data": {
      "image/png": "[encoded data removed]",
      "text/latex": [
       "$$T{\\left (z \\right )} = T_{A} + \\frac{\\left(T_{0} - T_{A}\\right) e^{2 L \\sqrt{\\frac{h}{B k}}} e^{- z \\sqrt{\\frac{h}{B k}}}}{e^{2 L \\sqrt{\\frac{h}{B k}}} + 1} + \\frac{\\left(T_{0} - T_{A}\\right) e^{z \\sqrt{\\frac{h}{B k}}}}{e^{2 L \\sqrt{\\frac{h}{B k}}} + 1}$$"
      ],
      "text/plain": [
       "                                 _____         _____                     _____\n",
       "                                ╱  h          ╱  h                      ╱  h  \n",
       "                         2⋅L⋅  ╱  ───   -z⋅  ╱  ───                z⋅  ╱  ─── \n",
       "                             ╲╱   B⋅k      ╲╱   B⋅k                  ╲╱   B⋅k \n",
       "             (T₀ - T_A)⋅ℯ             ⋅ℯ               (T₀ - T_A)⋅ℯ           \n",
       "T(z) = T_A + ─────────────────────────────────────── + ───────────────────────\n",
       "                                 _____                             _____      \n",
       "                                ╱  h                              ╱  h        \n",
       "                         2⋅L⋅  ╱  ───                      2⋅L⋅  ╱  ───       \n",
       "                             ╲╱   B⋅k                          ╲╱   B⋅k       \n",
       "                        ℯ              + 1                ℯ              + 1  "
      ]
     },
     "metadata": {},
     "output_type": "display_data"
    }
   ],
   "source": [
    "T=T.subs(constantes)\n",
    "display(T)"
   ]
  },
  {
   "cell_type": "markdown",
   "metadata": {},
   "source": [
    "### * 1  Exemples de calcul: quantité de chaleur dissipée"
   ]
  },
  {
   "cell_type": "code",
   "execution_count": 9,
   "metadata": {},
   "outputs": [
    {
     "data": {
      "image/png": "[encoded data removed]",
      "text/latex": [
       "$$- 2 B W k \\left. \\frac{\\partial}{\\partial z} T{\\left (z \\right )} = T_{A} + \\frac{\\left(T_{0} - T_{A}\\right) e^{2 L \\sqrt{\\frac{h}{B k}}} e^{- z \\sqrt{\\frac{h}{B k}}}}{e^{2 L \\sqrt{\\frac{h}{B k}}} + 1} + \\frac{\\left(T_{0} - T_{A}\\right) e^{z \\sqrt{\\frac{h}{B k}}}}{e^{2 L \\sqrt{\\frac{h}{B k}}} + 1} \\right|_{\\substack{ z=0 }}$$"
      ],
      "text/plain": [
       "         ⎛  ⎛                                 _____         _____             \n",
       "         ⎜  ⎜                                ╱  h          ╱  h               \n",
       "         ⎜  ⎜                         2⋅L⋅  ╱  ───   -z⋅  ╱  ───              \n",
       "         ⎜  ⎜                             ╲╱   B⋅k      ╲╱   B⋅k              \n",
       "         ⎜∂ ⎜             (T₀ - T_A)⋅ℯ             ⋅ℯ               (T₀ - T_A)\n",
       "-2⋅B⋅W⋅k⋅⎜──⎜T(z) = T_A + ─────────────────────────────────────── + ──────────\n",
       "         ⎜∂z⎜                                 _____                           \n",
       "         ⎜  ⎜                                ╱  h                             \n",
       "         ⎜  ⎜                         2⋅L⋅  ╱  ───                      2⋅L⋅  \n",
       "         ⎜  ⎜                             ╲╱   B⋅k                          ╲╱\n",
       "         ⎝  ⎝                        ℯ              + 1                ℯ      \n",
       "\n",
       "        _____⎞⎞│   \n",
       "       ╱  h  ⎟⎟│   \n",
       "  z⋅  ╱  ─── ⎟⎟│   \n",
       "    ╲╱   B⋅k ⎟⎟│   \n",
       "⋅ℯ           ⎟⎟│   \n",
       "─────────────⎟⎟│   \n",
       "  _____      ⎟⎟│   \n",
       " ╱  h        ⎟⎟│   \n",
       "╱  ───       ⎟⎟│   \n",
       "   B⋅k       ⎟⎟│   \n",
       "        + 1  ⎠⎠│z=0"
      ]
     },
     "metadata": {},
     "output_type": "display_data"
    }
   ],
   "source": [
    "#\n",
    "# La méthode la plus simple est de calculer le flux qui passe à\n",
    "# la base de l'ailette et le multiplier par la surface de la section\n",
    "#\n",
    "QD=2*B*W*(-k*sp.diff(T,z).subs(z,0))\n",
    "display(QD)"
   ]
  },
  {
   "cell_type": "code",
   "execution_count": 10,
   "metadata": {},
   "outputs": [
    {
     "data": {
      "image/png": "[encoded data removed]",
      "text/plain": [
       "<matplotlib.figure.Figure at 0x7f48dcfa16d8>"
      ]
     },
     "metadata": {},
     "output_type": "display_data"
    }
   ],
   "source": [
    "#\n",
    "# Tracons le profil de température pour des valeurs de paramètres choisis\n",
    "#\n",
    "dico={'h':20,'k':20,'B':0.001,'T_0':100,'T_A':20,'L':0.01}\n",
    "Tplot=T.rhs.subs(dico)\n",
    "import matplotlib.pyplot as plt\n",
    "plt.rcParams['figure.figsize']=10,8\n",
    "sp.plot(Tplot,(z,0,L.subs(dico)),ylabel='T');"
   ]
  },
  {
   "cell_type": "markdown",
   "metadata": {},
   "source": [
    ">> Comment calculer l'efficacité des ailettes: voyons le profil de température d'une autre ailette."
   ]
  },
  {
   "cell_type": "code",
   "execution_count": 11,
   "metadata": {},
   "outputs": [
    {
     "data": {
      "image/png": "[encoded data removed]",
      "text/plain": [
       "<matplotlib.figure.Figure at 0x7f48dc6c64e0>"
      ]
     },
     "metadata": {},
     "output_type": "display_data"
    }
   ],
   "source": [
    "#\n",
    "# Tracons le profil de température pour une ailette presque idéale\n",
    "#\n",
    "# Pourquoi cete ailette est-elle plus efficace que la précédente?\n",
    "#\n",
    "dico={'h':20,'k':300,'B':0.001,'T_0':100,'T_A':20,'L':0.01}\n",
    "plt.rcParams['figure.figsize']=10,8\n",
    "Tplot=T.rhs.subs(dico)\n",
    "sp.plot(Tplot,(z,0,L.subs(dico)),xlabel='z',ylabel='T');"
   ]
  },
  {
   "cell_type": "markdown",
   "metadata": {},
   "source": [
    ">> La quantité maximale de chaleur que peut dissiper une ailette est :  \n",
    "<center>\n",
    "$ Q_{max} = h A (T_0 -T_A) $\n",
    "</center>\n",
    ">> La quantité de chaleur dissipée par une ailette de section constante est : \n",
    "<center>\n",
    "$ Q_{reel} = P \\int _{0} ^{L} h (T_z - T_A) dz $ \n",
    "</center>\n",
    "ou P est le périmètre de l'ailette. \n",
    ">> L'efficacité de l'ailette réelle est donc \n",
    "<center>\n",
    "$ \\eta = \\frac {Q_{reel}} {Q_{max}} $\n",
    "<center>"
   ]
  },
  {
   "cell_type": "markdown",
   "metadata": {},
   "source": [
    "> * Exercice: calculez l'efficacité des deux ailettes ci-haut."
   ]
  }
 ],
 "metadata": {
  "anaconda-cloud": {},
  "kernelspec": {
   "display_name": "Python 3",
   "language": "python",
   "name": "python3"
  },
  "language_info": {
   "codemirror_mode": {
    "name": "ipython",
    "version": 3
   },
   "file_extension": ".py",
   "mimetype": "text/x-python",
   "name": "python",
   "nbconvert_exporter": "python",
   "pygments_lexer": "ipython3",
   "version": "3.6.5"
  }
 },
 "nbformat": 4,
 "nbformat_minor": 1
}
